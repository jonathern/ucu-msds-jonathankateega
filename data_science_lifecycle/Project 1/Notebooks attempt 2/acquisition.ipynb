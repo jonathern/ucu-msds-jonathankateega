{
 "cells": [
  {
   "cell_type": "code",
   "execution_count": 11,
   "id": "11e6fcfc",
   "metadata": {},
   "outputs": [],
   "source": [
    "# Importing packages\n",
    "import requests\n",
    "from bs4 import BeautifulSoup\n",
    "import pandas as pd\n",
    "from pathlib import Path\n",
    "import lxml"
   ]
  },
  {
   "cell_type": "code",
   "execution_count": 2,
   "id": "673e34a8",
   "metadata": {},
   "outputs": [],
   "source": [
    "# Defining URL for scraping\n",
    "url = \"https://cwur.org/2025.php\""
   ]
  },
  {
   "cell_type": "code",
   "execution_count": 5,
   "id": "082f8491",
   "metadata": {},
   "outputs": [],
   "source": [
    "# Setting headers to mimic a browser\n",
    "headers = {\n",
    "    \"User-Agent\": \"Mozilla/5.0 (Windows NT 10.0; Win64; x64) \"\n",
    "                  \"AppleWebKit/537.36 (KHTML, like Gecko) \"\n",
    "                  \"Chrome/116.0.0.0 Safari/537.36\"\n",
    "}"
   ]
  },
  {
   "cell_type": "code",
   "execution_count": 7,
   "id": "16904be8",
   "metadata": {},
   "outputs": [
    {
     "name": "stdout",
     "output_type": "stream",
     "text": [
      "Page fetched successfully, length: 429713\n"
     ]
    }
   ],
   "source": [
    "# Fetching the web page\n",
    "resp = requests.get(url, headers=headers)\n",
    "resp.raise_for_status()\n",
    "\n",
    "# Force UTF-8 decoding\n",
    "resp.encoding = 'utf-8'  # important!\n",
    "html = resp.text\n",
    "\n",
    "print(\"Page fetched successfully, length:\", len(html))"
   ]
  },
  {
   "cell_type": "code",
   "execution_count": 8,
   "id": "c83135ac",
   "metadata": {},
   "outputs": [],
   "source": [
    "# Parsing HTML with BeautifulSoup\n",
    "soup = BeautifulSoup(html, \"html.parser\")"
   ]
  },
  {
   "cell_type": "code",
   "execution_count": 9,
   "id": "b97d84e6",
   "metadata": {},
   "outputs": [],
   "source": [
    "# Finding the table element\n",
    "table = soup.find(\"table\", {\"id\": \"cwurTable\"} ) \n",
    "if table is None:\n",
    "    # fallback: find first large table\n",
    "    table = soup.find(\"table\")"
   ]
  },
  {
   "cell_type": "code",
   "execution_count": 12,
   "id": "bc96b2f3",
   "metadata": {},
   "outputs": [
    {
     "name": "stderr",
     "output_type": "stream",
     "text": [
      "/var/folders/l5/yc5tj9ns1zl68nmmk9yrms5h0000gn/T/ipykernel_48113/3787831101.py:2: FutureWarning: Passing literal html to 'read_html' is deprecated and will be removed in a future version. To read from a literal string, wrap it in a 'StringIO' object.\n",
      "  df = pd.read_html(str(table))[0]\n"
     ]
    }
   ],
   "source": [
    "# Reading table into pandas\n",
    "df = pd.read_html(str(table))[0]"
   ]
  },
  {
   "cell_type": "code",
   "execution_count": null,
   "id": "addee4fd",
   "metadata": {},
   "outputs": [
    {
     "name": "stdout",
     "output_type": "stream",
     "text": [
      "(2000, 9)\n",
      "   World Rank                            Institution        Location  \\\n",
      "0  1 Top 0.1%                     Harvard University             USA   \n",
      "1  2 Top 0.1%  Massachusetts Institute of Technology             USA   \n",
      "2  3 Top 0.1%                    Stanford University             USA   \n",
      "3  4 Top 0.1%                University of Cambridge  United Kingdom   \n",
      "4  5 Top 0.1%                   University of Oxford  United Kingdom   \n",
      "\n",
      "   National Rank Education Rank Employability Rank Faculty Rank Research Rank  \\\n",
      "0              1              1                  1            1             1   \n",
      "1              2              4                 12            2            11   \n",
      "2              3             10                  4            3             4   \n",
      "3              1              2                 26            4            14   \n",
      "4              2              7                 28            9             6   \n",
      "\n",
      "   Score  \n",
      "0  100.0  \n",
      "1   96.8  \n",
      "2   95.2  \n",
      "3   94.1  \n",
      "4   93.3  \n"
     ]
    }
   ],
   "source": [
    "# Inspecting the Dataframe\n",
    "print(df.shape)\n",
    "print(df.head())"
   ]
  },
  {
   "cell_type": "code",
   "execution_count": 15,
   "id": "8f821763",
   "metadata": {},
   "outputs": [
    {
     "name": "stdout",
     "output_type": "stream",
     "text": [
      "Saved data to data/cwur_2025.csv\n"
     ]
    }
   ],
   "source": [
    "# Saving dataframe to CSV\n",
    "output_path = Path(\"data\") / \"cwur_2025.csv\"\n",
    "output_path.parent.mkdir(exist_ok=True)\n",
    "df.to_csv(output_path, index=False)\n",
    "print(f\"Saved data to {output_path}\")"
   ]
  }
 ],
 "metadata": {
  "kernelspec": {
   "display_name": "myenv",
   "language": "python",
   "name": "python3"
  },
  "language_info": {
   "codemirror_mode": {
    "name": "ipython",
    "version": 3
   },
   "file_extension": ".py",
   "mimetype": "text/x-python",
   "name": "python",
   "nbconvert_exporter": "python",
   "pygments_lexer": "ipython3",
   "version": "3.10.2"
  }
 },
 "nbformat": 4,
 "nbformat_minor": 5
}
