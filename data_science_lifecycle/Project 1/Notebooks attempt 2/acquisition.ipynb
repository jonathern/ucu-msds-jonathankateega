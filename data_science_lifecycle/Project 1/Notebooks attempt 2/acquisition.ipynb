{
 "cells": [
  {
   "cell_type": "markdown",
   "id": "4a376102",
   "metadata": {},
   "source": [
    "### Data Acquisition\n",
    "#### GLOBAL 2000 LIST BY THE CENTER FOR WORLD UNIVERSITY RANKINGS\n",
    "Author: Jonathan Kateega\\\n",
    "Access No.: B34976"
   ]
  },
  {
   "cell_type": "code",
   "execution_count": 1,
   "id": "11e6fcfc",
   "metadata": {},
   "outputs": [],
   "source": [
    "# Importing packages\n",
    "import requests\n",
    "from bs4 import BeautifulSoup\n",
    "import pandas as pd\n",
    "from pathlib import Path\n",
    "import lxml\n",
    "from io import StringIO"
   ]
  },
  {
   "cell_type": "code",
   "execution_count": 2,
   "id": "673e34a8",
   "metadata": {},
   "outputs": [],
   "source": [
    "# Defining URL for scraping\n",
    "# For this exercise I have previewed the CWUR 2025 website\n",
    "# and decided the data is suitable for the tasks\n",
    "url = \"https://cwur.org/2025.php\""
   ]
  },
  {
   "cell_type": "code",
   "execution_count": 3,
   "id": "082f8491",
   "metadata": {},
   "outputs": [],
   "source": [
    "# Setting headers to mimic a browser\n",
    "headers = {\n",
    "    \"User-Agent\": \"Mozilla/5.0 (Windows NT 10.0; Win64; x64) \"\n",
    "                  \"AppleWebKit/537.36 (KHTML, like Gecko) \"\n",
    "                  \"Chrome/116.0.0.0 Safari/537.36\"\n",
    "}"
   ]
  },
  {
   "cell_type": "code",
   "execution_count": 4,
   "id": "16904be8",
   "metadata": {},
   "outputs": [
    {
     "name": "stdout",
     "output_type": "stream",
     "text": [
      "Page fetched successfully, length: 429713\n"
     ]
    }
   ],
   "source": [
    "# Fetching the web page\n",
    "resp = requests.get(url, headers=headers)\n",
    "resp.raise_for_status()\n",
    "\n",
    "# Force UTF-8 decoding\n",
    "resp.encoding = 'utf-8'  # important!\n",
    "html = resp.text\n",
    "\n",
    "print(\"Page fetched successfully, length:\", len(html))"
   ]
  },
  {
   "cell_type": "code",
   "execution_count": 5,
   "id": "c83135ac",
   "metadata": {},
   "outputs": [],
   "source": [
    "# Parsing HTML with BeautifulSoup\n",
    "soup = BeautifulSoup(html, \"html.parser\")"
   ]
  },
  {
   "cell_type": "code",
   "execution_count": 6,
   "id": "b97d84e6",
   "metadata": {},
   "outputs": [],
   "source": [
    "# Finding the table element\n",
    "# From inspecting the website, the id of the table \n",
    "# I need is \"cwurTable\"\n",
    "table = soup.find(\"table\", {\"id\": \"cwurTable\"} ) \n",
    "\n",
    "# Implementing a fallback, from best practices\n",
    "# fallback: find first large table\n",
    "if table is None:\n",
    "    table = soup.find(\"table\")"
   ]
  },
  {
   "cell_type": "code",
   "execution_count": 7,
   "id": "bc96b2f3",
   "metadata": {},
   "outputs": [
    {
     "data": {
      "text/html": [
       "<div>\n",
       "<style scoped>\n",
       "    .dataframe tbody tr th:only-of-type {\n",
       "        vertical-align: middle;\n",
       "    }\n",
       "\n",
       "    .dataframe tbody tr th {\n",
       "        vertical-align: top;\n",
       "    }\n",
       "\n",
       "    .dataframe thead th {\n",
       "        text-align: right;\n",
       "    }\n",
       "</style>\n",
       "<table border=\"1\" class=\"dataframe\">\n",
       "  <thead>\n",
       "    <tr style=\"text-align: right;\">\n",
       "      <th></th>\n",
       "      <th>World Rank</th>\n",
       "      <th>Institution</th>\n",
       "      <th>Location</th>\n",
       "      <th>National Rank</th>\n",
       "      <th>Education Rank</th>\n",
       "      <th>Employability Rank</th>\n",
       "      <th>Faculty Rank</th>\n",
       "      <th>Research Rank</th>\n",
       "      <th>Score</th>\n",
       "    </tr>\n",
       "  </thead>\n",
       "  <tbody>\n",
       "    <tr>\n",
       "      <th>0</th>\n",
       "      <td>1 Top 0.1%</td>\n",
       "      <td>Harvard University</td>\n",
       "      <td>USA</td>\n",
       "      <td>1</td>\n",
       "      <td>1</td>\n",
       "      <td>1</td>\n",
       "      <td>1</td>\n",
       "      <td>1</td>\n",
       "      <td>100.0</td>\n",
       "    </tr>\n",
       "    <tr>\n",
       "      <th>1</th>\n",
       "      <td>2 Top 0.1%</td>\n",
       "      <td>Massachusetts Institute of Technology</td>\n",
       "      <td>USA</td>\n",
       "      <td>2</td>\n",
       "      <td>4</td>\n",
       "      <td>12</td>\n",
       "      <td>2</td>\n",
       "      <td>11</td>\n",
       "      <td>96.8</td>\n",
       "    </tr>\n",
       "    <tr>\n",
       "      <th>2</th>\n",
       "      <td>3 Top 0.1%</td>\n",
       "      <td>Stanford University</td>\n",
       "      <td>USA</td>\n",
       "      <td>3</td>\n",
       "      <td>10</td>\n",
       "      <td>4</td>\n",
       "      <td>3</td>\n",
       "      <td>4</td>\n",
       "      <td>95.2</td>\n",
       "    </tr>\n",
       "    <tr>\n",
       "      <th>3</th>\n",
       "      <td>4 Top 0.1%</td>\n",
       "      <td>University of Cambridge</td>\n",
       "      <td>United Kingdom</td>\n",
       "      <td>1</td>\n",
       "      <td>2</td>\n",
       "      <td>26</td>\n",
       "      <td>4</td>\n",
       "      <td>14</td>\n",
       "      <td>94.1</td>\n",
       "    </tr>\n",
       "    <tr>\n",
       "      <th>4</th>\n",
       "      <td>5 Top 0.1%</td>\n",
       "      <td>University of Oxford</td>\n",
       "      <td>United Kingdom</td>\n",
       "      <td>2</td>\n",
       "      <td>7</td>\n",
       "      <td>28</td>\n",
       "      <td>9</td>\n",
       "      <td>6</td>\n",
       "      <td>93.3</td>\n",
       "    </tr>\n",
       "  </tbody>\n",
       "</table>\n",
       "</div>"
      ],
      "text/plain": [
       "   World Rank                            Institution        Location  \\\n",
       "0  1 Top 0.1%                     Harvard University             USA   \n",
       "1  2 Top 0.1%  Massachusetts Institute of Technology             USA   \n",
       "2  3 Top 0.1%                    Stanford University             USA   \n",
       "3  4 Top 0.1%                University of Cambridge  United Kingdom   \n",
       "4  5 Top 0.1%                   University of Oxford  United Kingdom   \n",
       "\n",
       "   National Rank Education Rank Employability Rank Faculty Rank Research Rank  \\\n",
       "0              1              1                  1            1             1   \n",
       "1              2              4                 12            2            11   \n",
       "2              3             10                  4            3             4   \n",
       "3              1              2                 26            4            14   \n",
       "4              2              7                 28            9             6   \n",
       "\n",
       "   Score  \n",
       "0  100.0  \n",
       "1   96.8  \n",
       "2   95.2  \n",
       "3   94.1  \n",
       "4   93.3  "
      ]
     },
     "execution_count": 7,
     "metadata": {},
     "output_type": "execute_result"
    }
   ],
   "source": [
    "# Reading table into pandas\n",
    "df = pd.read_html(StringIO(str(table)))[0]\n",
    "df.head(5)"
   ]
  },
  {
   "cell_type": "code",
   "execution_count": 8,
   "id": "addee4fd",
   "metadata": {},
   "outputs": [
    {
     "name": "stdout",
     "output_type": "stream",
     "text": [
      "The dataset has 2000 samples and 9 features.\n",
      "Features: World Rank, Institution, Location, National Rank, Education Rank, Employability Rank, Faculty Rank, Research Rank, Score\n"
     ]
    }
   ],
   "source": [
    "# Inspecting the Dataframe\n",
    "rows, cols = df.shape\n",
    "print(f\"The dataset has {rows} samples and {cols} features.\")\n",
    "print(f\"Features: {', '.join(df.columns)}\")"
   ]
  },
  {
   "cell_type": "code",
   "execution_count": 9,
   "id": "8f821763",
   "metadata": {},
   "outputs": [
    {
     "name": "stdout",
     "output_type": "stream",
     "text": [
      "Successfully saved the dataframe to data/cwur_2025.csv\n"
     ]
    }
   ],
   "source": [
    "# Saving dataframe to CSV\n",
    "output_path = Path(\"data\") / \"cwur_2025.csv\"\n",
    "output_path.parent.mkdir(exist_ok=True)\n",
    "df.to_csv(output_path, index=False)\n",
    "print(f\"Successfully saved the dataframe to {output_path}\")"
   ]
  }
 ],
 "metadata": {
  "kernelspec": {
   "display_name": "myenv",
   "language": "python",
   "name": "python3"
  },
  "language_info": {
   "codemirror_mode": {
    "name": "ipython",
    "version": 3
   },
   "file_extension": ".py",
   "mimetype": "text/x-python",
   "name": "python",
   "nbconvert_exporter": "python",
   "pygments_lexer": "ipython3",
   "version": "3.10.2"
  }
 },
 "nbformat": 4,
 "nbformat_minor": 5
}
