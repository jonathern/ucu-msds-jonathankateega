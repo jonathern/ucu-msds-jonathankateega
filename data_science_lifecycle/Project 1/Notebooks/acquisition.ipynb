{
 "cells": [
  {
   "cell_type": "code",
   "execution_count": 1,
   "id": "c1c39a2f",
   "metadata": {},
   "outputs": [],
   "source": [
    "# importing packages\n",
    "import requests\n",
    "import pandas as pd"
   ]
  },
  {
   "cell_type": "code",
   "execution_count": 2,
   "id": "7318d098",
   "metadata": {},
   "outputs": [],
   "source": [
    "# API key\n",
    "API_KEY = \"d4QMAsW8BcJWIqE2ouetUCGdPRgTa0CTc9QQOpEe\"\n",
    "\n",
    "# Base URL for the U.S. Department of Education College Scorecard API\n",
    "BASE_URL = \"https://api.data.gov/ed/collegescorecard/v1/schools\""
   ]
  },
  {
   "cell_type": "code",
   "execution_count": 3,
   "id": "cbde608f",
   "metadata": {},
   "outputs": [],
   "source": [
    "# Declaring parameters for the API request\n",
    "params = {\n",
    "    \"api_key\": API_KEY,\n",
    "    \"fields\": \",\".join([\n",
    "        \"id\",\n",
    "        \"school.name\",\n",
    "        \"school.city\",\n",
    "        \"school.state\",\n",
    "        \"latest.admissions.admission_rate.overall\",\n",
    "        \"school.degrees_awarded.highest\",\n",
    "        \"latest.cost.tuition.in_state\",\n",
    "        \"latest.completion.rate\",\n",
    "        \"school.ownership\",\n",
    "        \"location.lat\",\n",
    "        \"location.lon\"\n",
    "    ]),\n",
    "    \"per_page\": 100\n",
    "}"
   ]
  },
  {
   "cell_type": "code",
   "execution_count": 4,
   "id": "b0d24d02",
   "metadata": {},
   "outputs": [
    {
     "name": "stdout",
     "output_type": "stream",
     "text": [
      "Fetched page 1 (100 records)\n",
      "Fetched page 2 (100 records)\n",
      "Fetched page 3 (100 records)\n",
      "Fetched page 4 (100 records)\n",
      "Fetched page 5 (100 records)\n"
     ]
    }
   ],
   "source": [
    "# Fetching data with pagination\n",
    "# 5 pages with 100 records each\n",
    "all_results = []\n",
    "total_pages = 5\n",
    "\n",
    "for page in range(total_pages):\n",
    "    params[\"page\"] = page\n",
    "    response = requests.get(BASE_URL, params=params)\n",
    "\n",
    "    if response.status_code != 200:\n",
    "        print(f\"Error fetching page {page}: {response.status_code}\")\n",
    "        print(response.text)\n",
    "        break\n",
    "\n",
    "    data = response.json()\n",
    "    results = data.get(\"results\", [])\n",
    "    if not results:\n",
    "        print(\"No more results returned by the API.\")\n",
    "        break\n",
    "\n",
    "    all_results.extend(results)\n",
    "    print(f\"Fetched page {page + 1} ({len(results)} records)\")"
   ]
  },
  {
   "cell_type": "code",
   "execution_count": 5,
   "id": "935041dc",
   "metadata": {},
   "outputs": [
    {
     "name": "stdout",
     "output_type": "stream",
     "text": [
      "\n",
      "✅ Total records fetched: 500\n"
     ]
    }
   ],
   "source": [
    "# converting to a dataframe\n",
    "colleges_df = pd.DataFrame(all_results)\n",
    "print(f\"\\n✅ Total records fetched: {len(colleges_df)}\")"
   ]
  },
  {
   "cell_type": "code",
   "execution_count": 6,
   "id": "4e29bf8c",
   "metadata": {},
   "outputs": [
    {
     "name": "stdout",
     "output_type": "stream",
     "text": [
      "\n",
      "📁 Data saved to college_scorecard.csv\n"
     ]
    }
   ],
   "source": [
    "# Outputting a raw CSV file\n",
    "colleges_df.to_csv(\"college_scorecard.csv\", index=False)\n",
    "print(\"\\n📁 Data saved to college_scorecard.csv\")"
   ]
  }
 ],
 "metadata": {
  "kernelspec": {
   "display_name": "myenv",
   "language": "python",
   "name": "python3"
  },
  "language_info": {
   "codemirror_mode": {
    "name": "ipython",
    "version": 3
   },
   "file_extension": ".py",
   "mimetype": "text/x-python",
   "name": "python",
   "nbconvert_exporter": "python",
   "pygments_lexer": "ipython3",
   "version": "3.10.2"
  }
 },
 "nbformat": 4,
 "nbformat_minor": 5
}
