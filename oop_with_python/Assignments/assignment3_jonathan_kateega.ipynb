{
 "cells": [
  {
   "cell_type": "markdown",
   "metadata": {},
   "source": [
    "# MSDS OOP With Python\n",
    "## Assignment 3\n",
    "### Advent 2025\n",
    "\n",
    "Author: Jonathan Stephen KATEEGA\\\n",
    "Access No: B34976"
   ]
  },
  {
   "cell_type": "markdown",
   "metadata": {},
   "source": [
    "## Question 1\n",
    "Create a class hierarchy that models vehicles registered in Uganda.\n",
    "\n",
    "Attempt the following tasks:"
   ]
  },
  {
   "cell_type": "markdown",
   "metadata": {},
   "source": [
    "1.1. Create a parent class Vehicle with attributes: plate_number, owner, engine_cc, base_tax."
   ]
  },
  {
   "cell_type": "code",
   "execution_count": 1,
   "metadata": {},
   "outputs": [],
   "source": [
    "class Vehicle:\n",
    "    \n",
    "    \"\"\"A class to represent a vehicle.\"\"\"\n",
    "    \n",
    "    def __init__(self, plate_number, owner, engine_cc, base_tax):\n",
    "        self.plate_number = plate_number\n",
    "        self.owner = owner\n",
    "        self.engine_cc = engine_cc\n",
    "        self.base_tax = base_tax\n",
    "\n",
    "    def calculate_tax(self):\n",
    "        \"\"\"Base method (intended to be overridden by subclasses).\"\"\"\n",
    "        return self.base_tax\n",
    "\n",
    "    def to_dict(self):\n",
    "        \"\"\"Return vehicle details as a dictionary.\"\"\"\n",
    "        return {\n",
    "            \"type\": self.__class__.__name__,\n",
    "            \"plate_number\": self.plate_number,\n",
    "            \"owner\": self.owner,\n",
    "            \"engine_cc\": self.engine_cc,\n",
    "            \"base_tax\": self.base_tax,\n",
    "            \"calculated_tax\": self.calculate_tax()\n",
    "        }"
   ]
  },
  {
   "cell_type": "markdown",
   "metadata": {},
   "source": [
    "1.2. Create subclasses:\n",
    "- Car – adds passenger_capacity.\n",
    "- Truck – adds load_capacity.\n",
    "- Motorbike – adds type (e.g., boda, private)."
   ]
  },
  {
   "cell_type": "markdown",
   "metadata": {},
   "source": [
    "1.3. Implement a method calculate_tax():\n",
    "- Cars: base_tax + (engine_cc × 0.05)\n",
    "- Trucks: base_tax + (load_capacity × 0.1)\n",
    "- Motorbikes: base_tax + 20,000"
   ]
  },
  {
   "cell_type": "code",
   "execution_count": 2,
   "metadata": {},
   "outputs": [],
   "source": [
    "class Car(Vehicle):\n",
    "    def __init__(self, plate_number, owner, engine_cc, base_tax, passenger_capacity):\n",
    "        super().__init__(plate_number, owner, engine_cc, base_tax)\n",
    "        self.passenger_capacity = passenger_capacity\n",
    "\n",
    "    def calculate_tax(self):\n",
    "        # Cars: base_tax + (engine_cc × 0.05)\n",
    "        return self.base_tax + (self.engine_cc * 0.05)\n",
    "\n",
    "    def to_dict(self):\n",
    "        data = super().to_dict()\n",
    "        data[\"passenger_capacity\"] = self.passenger_capacity\n",
    "        return data\n",
    "\n",
    "\n",
    "class Truck(Vehicle):\n",
    "    def __init__(self, plate_number, owner, engine_cc, base_tax, load_capacity):\n",
    "        super().__init__(plate_number, owner, engine_cc, base_tax)\n",
    "        self.load_capacity = load_capacity\n",
    "\n",
    "    def calculate_tax(self):\n",
    "        # Trucks: base_tax + (load_capacity × 0.1)\n",
    "        return self.base_tax + (self.load_capacity * 0.1)\n",
    "\n",
    "    def to_dict(self):\n",
    "        data = super().to_dict()\n",
    "        data[\"load_capacity\"] = self.load_capacity\n",
    "        return data\n",
    "\n",
    "\n",
    "class Motorbike(Vehicle):\n",
    "    def __init__(self, plate_number, owner, engine_cc, base_tax, type_):\n",
    "        super().__init__(plate_number, owner, engine_cc, base_tax)\n",
    "        self.type_ = type_\n",
    "\n",
    "    def calculate_tax(self):\n",
    "        # Motorbikes: base_tax + 20,000\n",
    "        return self.base_tax + 20000\n",
    "\n",
    "    def to_dict(self):\n",
    "        data = super().to_dict()\n",
    "        data[\"type\"] = self.type_\n",
    "        return data"
   ]
  },
  {
   "cell_type": "markdown",
   "metadata": {},
   "source": [
    "1.4. Demonstrate polymorphism by calling calculate_tax() for all types."
   ]
  },
  {
   "cell_type": "markdown",
   "metadata": {},
   "source": [
    "1.5. Save all records to a JSON file named vehicle_registry.json."
   ]
  },
  {
   "cell_type": "code",
   "execution_count": 3,
   "metadata": {},
   "outputs": [
    {
     "name": "stdout",
     "output_type": "stream",
     "text": [
      "Vehicle Tax Calculations\n",
      "Car (UAX123A) - Tax: 50,100 UGX\n",
      "Truck (UBD456B) - Tax: 81,200 UGX\n",
      "Motorbike (UEX789C) - Tax: 50,000 UGX\n",
      "\n",
      "Vehicle records saved to vehicle_registry.json\n"
     ]
    }
   ],
   "source": [
    "# importing json package\n",
    "import json\n",
    "\n",
    "if __name__ == \"__main__\":\n",
    "    vehicles = [\n",
    "        Car(\"UAX123A\", \"Jonathan Kateega\", 2000, 50000, 5),\n",
    "        Truck(\"UBD456B\", \"Mary Nansubuga\", 4000, 80000, 12000),\n",
    "        Motorbike(\"UEX789C\", \"Peter Okello\", 150, 30000, \"boda\")\n",
    "    ]\n",
    "\n",
    "    print(\"Vehicle Tax Calculations\")\n",
    "    for v in vehicles:\n",
    "        print(f\"{v.__class__.__name__} ({v.plate_number}) - Tax: {v.calculate_tax():,.0f} UGX\")\n",
    "        \n",
    "    # saving all records to JSON\n",
    "    vehicle_data = [v.to_dict() for v in vehicles]\n",
    "    with open(\"vehicle_registry.json\", \"w\") as f:\n",
    "        json.dump(vehicle_data, f, indent=4)\n",
    "\n",
    "    print(\"\\nVehicle records saved to vehicle_registry.json\")"
   ]
  },
  {
   "cell_type": "markdown",
   "metadata": {},
   "source": [
    "## Question 2\n",
    "Model a SACCO (Savings and Credit Cooperative) that evaluates members for loan approval.\n",
    "\n",
    "Attempt the following tasks:"
   ]
  },
  {
   "cell_type": "markdown",
   "metadata": {},
   "source": [
    "2.1. Create an abstract base class Member with: name, id_no, savings_balance."
   ]
  },
  {
   "cell_type": "markdown",
   "metadata": {},
   "source": [
    "2.4. Add static method get_exchange_rate() that retrieves USD rate using requests.get()."
   ]
  },
  {
   "cell_type": "markdown",
   "metadata": {},
   "source": [
    "2.5. Display equivalent loan eligibility in UGX and USD."
   ]
  },
  {
   "cell_type": "markdown",
   "metadata": {},
   "source": [
    "2.6. Include exception handling for network/JSON errors."
   ]
  },
  {
   "cell_type": "code",
   "execution_count": 4,
   "metadata": {},
   "outputs": [],
   "source": [
    "# Importing packages\n",
    "\n",
    "from abc import ABC, abstractmethod\n",
    "import requests"
   ]
  },
  {
   "cell_type": "code",
   "execution_count": 5,
   "metadata": {},
   "outputs": [],
   "source": [
    "# Creating an abstract class \"Member\"\n",
    "\n",
    "class Member(ABC):\n",
    "    def __init__(self, name, id_no, savings_balance):\n",
    "        self.name = name\n",
    "        self.id_no = id_no\n",
    "        self.savings_balance = savings_balance\n",
    "\n",
    "    @abstractmethod\n",
    "    def loan_eligibility(self):\n",
    "        \"\"\"Compute the maximum loan a member can receive.\"\"\"\n",
    "        pass\n",
    "    \n",
    "    # A static method to retrieve the USD exchange rate\n",
    "    # Includes exception handling for network errors\n",
    "    @staticmethod\n",
    "    def get_exchange_rate():\n",
    "        \"\"\"\n",
    "        Retrieves the USD exchange rate from an online API.\n",
    "        Includes exception handling for network or JSON errors.\n",
    "        \"\"\"\n",
    "        try:\n",
    "            response = requests.get(\"https://api.exchangerate-api.com/v4/latest/UGX\", timeout=5)\n",
    "            response.raise_for_status()  # Raises an HTTPError if the response was unsuccessful\n",
    "            data = response.json()\n",
    "            usd_rate = data[\"rates\"][\"USD\"]\n",
    "            return usd_rate\n",
    "        except requests.exceptions.RequestException as e:\n",
    "            print(f\"Network error: {e}\")\n",
    "            return None\n",
    "        except (KeyError, ValueError) as e:\n",
    "            print(f\"Error processing exchange rate data: {e}\")\n",
    "            return None"
   ]
  },
  {
   "cell_type": "markdown",
   "metadata": {},
   "source": [
    "2.2. Create subclasses:\n",
    "- FarmerMember\n",
    "- TraderMember"
   ]
  },
  {
   "cell_type": "markdown",
   "metadata": {},
   "source": [
    "2.3. Implement loan_eligibility():\n",
    "- Trader: 4 × savings balance\n",
    "- Farmer: 6 × savings balance"
   ]
  },
  {
   "cell_type": "code",
   "execution_count": 6,
   "metadata": {},
   "outputs": [],
   "source": [
    "# Creating Sub-Classes for \"FarmerMember\" and \"TraderMember\"\n",
    "\n",
    "class FarmerMember(Member):\n",
    "    def loan_eligibility(self):\n",
    "        # Farmer loan eligibility: 6 × savings balance\n",
    "        return self.savings_balance * 6\n",
    "\n",
    "\n",
    "class TraderMember(Member):\n",
    "    def loan_eligibility(self):\n",
    "        # Trader loan eligibility: 4 × savings balance\n",
    "        return self.savings_balance * 4"
   ]
  },
  {
   "cell_type": "code",
   "execution_count": 7,
   "metadata": {},
   "outputs": [
    {
     "name": "stdout",
     "output_type": "stream",
     "text": [
      "SACCO Loan Eligibility\n",
      "\n",
      "Member: John Okello (FarmerMember)\n",
      " - Savings Balance: 1,000,000 UGX\n",
      " - Loan Eligibility: 6,000,000 UGX (1,740.00 USD)\n",
      "\n",
      "Member: Sarah Namatovu (TraderMember)\n",
      " - Savings Balance: 2,000,000 UGX\n",
      " - Loan Eligibility: 8,000,000 UGX (2,320.00 USD)\n",
      "\n"
     ]
    }
   ],
   "source": [
    "# Sample usage\n",
    "\n",
    "if __name__ == \"__main__\":\n",
    "    # Create sample members\n",
    "    members = [\n",
    "        FarmerMember(\"John Okello\", \"FM123\", 1_000_000),\n",
    "        TraderMember(\"Sarah Namatovu\", \"TM456\", 2_000_000),\n",
    "    ]\n",
    "\n",
    "    print(\"SACCO Loan Eligibility\\n\")\n",
    "\n",
    "    # Fetch USD exchange rate once\n",
    "    usd_rate = Member.get_exchange_rate()\n",
    "\n",
    "    for m in members:\n",
    "        ugx_eligibility = m.loan_eligibility()\n",
    "        if usd_rate:\n",
    "            usd_eligibility = ugx_eligibility * usd_rate\n",
    "            print(f\"Member: {m.name} ({m.__class__.__name__})\")\n",
    "            print(f\" - Savings Balance: {m.savings_balance:,.0f} UGX\")\n",
    "            print(f\" - Loan Eligibility: {ugx_eligibility:,.0f} UGX ({usd_eligibility:,.2f} USD)\\n\")\n",
    "        else:\n",
    "            print(f\"Member: {m.name} ({m.__class__.__name__})\")\n",
    "            print(f\" - Savings Balance: {m.savings_balance:,.0f} UGX\")\n",
    "            print(f\" - Loan Eligibility: {ugx_eligibility:,.0f} UGX\")\n",
    "            print(\" - Exchange rate unavailable.\\n\")"
   ]
  },
  {
   "cell_type": "markdown",
   "metadata": {},
   "source": [
    "## Question 3\n",
    "3. Design a system that models traffic light management.\n",
    "\n",
    "Attempt the following tasks"
   ]
  },
  {
   "cell_type": "markdown",
   "metadata": {},
   "source": [
    "3.1. Base class TrafficLight with turn_green(), turn_red(), and status()."
   ]
  },
  {
   "cell_type": "markdown",
   "metadata": {},
   "source": [
    "3.3. Demonstrate encapsulation using private attribute __current_state."
   ]
  },
  {
   "cell_type": "code",
   "execution_count": 8,
   "metadata": {},
   "outputs": [],
   "source": [
    "# Importing packages\n",
    "\n",
    "import random\n",
    "import time\n",
    "from datetime import datetime"
   ]
  },
  {
   "cell_type": "code",
   "execution_count": 9,
   "metadata": {},
   "outputs": [],
   "source": [
    "# Base class, demosntrating encapsulation using private attribute __current_state\n",
    "\n",
    "class TrafficLight:\n",
    "    def __init__(self, location):\n",
    "        self.location = location\n",
    "        self.__current_state = \"RED\"  # 3.3 Encapsulation: private attribute\n",
    "\n",
    "    def turn_green(self):\n",
    "        \"\"\"Switch to GREEN.\"\"\"\n",
    "        self.__current_state = \"GREEN\"\n",
    "\n",
    "    def turn_red(self):\n",
    "        \"\"\"Switch to RED.\"\"\"\n",
    "        self.__current_state = \"RED\"\n",
    "\n",
    "    def status(self):\n",
    "        \"\"\"Return current state.\"\"\"\n",
    "        return self.__current_state"
   ]
  },
  {
   "cell_type": "markdown",
   "metadata": {},
   "source": [
    "3.2. Subclass SmartTrafficLight that:\n",
    "- Connects to a simulated sensor API returning car density.\n",
    "- Adjusts green/red duration based on car count."
   ]
  },
  {
   "cell_type": "code",
   "execution_count": 10,
   "metadata": {},
   "outputs": [],
   "source": [
    "# Subclass with simulated sensor API\n",
    "\n",
    "class SmartTrafficLight(TrafficLight):\n",
    "    def __init__(self, location):\n",
    "        super().__init__(location)\n",
    "\n",
    "    def get_car_density(self):\n",
    "        \"\"\"\n",
    "        Simulated sensor API — returns random car count (0–100).\n",
    "        \"\"\"\n",
    "        return random.randint(0, 100)\n",
    "\n",
    "    def adjust_durations(self):\n",
    "        \"\"\"\n",
    "        Adjust durations based on car density.\n",
    "        More cars → longer green light.\n",
    "        \"\"\"\n",
    "        car_count = self.get_car_density()\n",
    "\n",
    "        if car_count < 30:\n",
    "            green_duration = 30\n",
    "            red_duration = 60\n",
    "        elif 30 <= car_count < 70:\n",
    "            green_duration = 45\n",
    "            red_duration = 45\n",
    "        else:\n",
    "            green_duration = 60\n",
    "            red_duration = 30\n",
    "\n",
    "        return car_count, green_duration, red_duration\n",
    "\n",
    "    def run_cycle(self, cycles=3):\n",
    "        \"\"\"\n",
    "        Runs several light cycles, waiting real-time between changes.\n",
    "        \"\"\"\n",
    "        for i in range(cycles):\n",
    "            car_count, green, red = self.adjust_durations()\n",
    "\n",
    "            # --- GREEN light phase ---\n",
    "            self.turn_green()\n",
    "            timestamp = datetime.now().strftime(\"%H:%M:%S\")\n",
    "            print(f\"[{timestamp}] {self.location}: GREEN for {green}s (cars detected: {car_count})\")\n",
    "            time.sleep(green)\n",
    "\n",
    "            # --- RED light phase ---\n",
    "            self.turn_red()\n",
    "            timestamp = datetime.now().strftime(\"%H:%M:%S\")\n",
    "            print(f\"[{timestamp}] {self.location}: RED for {red}s\")\n",
    "            time.sleep(red)\n",
    "\n",
    "            print(\"-\" * 60)"
   ]
  },
  {
   "cell_type": "markdown",
   "metadata": {},
   "source": [
    "3.4 Simulate multiple cycles printing logs like:\\\n",
    "[09:15] Jinja Road: Green for 60s, Red for 30s."
   ]
  },
  {
   "cell_type": "code",
   "execution_count": 11,
   "metadata": {},
   "outputs": [
    {
     "name": "stdout",
     "output_type": "stream",
     "text": [
      "Traffic Light Simulation\n",
      "\n",
      "[22:24:18] Jinja Road: GREEN for 45s (cars detected: 55)\n",
      "[22:25:03] Jinja Road: RED for 45s\n",
      "------------------------------------------------------------\n",
      "[22:25:48] Jinja Road: GREEN for 30s (cars detected: 3)\n",
      "[22:26:18] Jinja Road: RED for 60s\n",
      "------------------------------------------------------------\n",
      "[22:27:18] Kampala Road: GREEN for 45s (cars detected: 67)\n",
      "[22:28:03] Kampala Road: RED for 45s\n",
      "------------------------------------------------------------\n",
      "[22:28:48] Kampala Road: GREEN for 30s (cars detected: 11)\n",
      "[22:29:18] Kampala Road: RED for 60s\n",
      "------------------------------------------------------------\n"
     ]
    }
   ],
   "source": [
    "# Simulation\n",
    "\n",
    "if __name__ == \"__main__\":\n",
    "    print(\"Traffic Light Simulation\\n\")\n",
    "\n",
    "    jinja_light = SmartTrafficLight(\"Jinja Road\")\n",
    "    kampala_light = SmartTrafficLight(\"Kampala Road\")\n",
    "\n",
    "    # Run both intersections in sequence (each runs for 2 cycles)\n",
    "    jinja_light.run_cycle(cycles=2)\n",
    "    kampala_light.run_cycle(cycles=2)"
   ]
  },
  {
   "cell_type": "markdown",
   "metadata": {},
   "source": [
    "## Question 4\n",
    "Build a student grading system.\n",
    "\n",
    "Requirements:"
   ]
  },
  {
   "cell_type": "markdown",
   "metadata": {},
   "source": [
    "4.1. Base class Student with: student_id, name, marks (dictionary of subjects)."
   ]
  },
  {
   "cell_type": "markdown",
   "metadata": {},
   "source": [
    "4.2. Methods:\n",
    "- Compute total and average marks.\n",
    "- Return grade (A ≥80, B ≥70, etc.)."
   ]
  },
  {
   "cell_type": "code",
   "execution_count": 12,
   "metadata": {},
   "outputs": [],
   "source": [
    "# Base class for \"Student\"\n",
    "\n",
    "class Student:\n",
    "    def __init__(self, student_id, name, marks):\n",
    "        \"\"\"\n",
    "        marks: dictionary {subject: score}\n",
    "        \"\"\"\n",
    "        self.student_id = student_id\n",
    "        self.name = name\n",
    "        self.marks = marks\n",
    "\n",
    "    # Methods\n",
    "    def compute_total(self):\n",
    "        return sum(self.marks.values())\n",
    "\n",
    "    def compute_average(self):\n",
    "        return self.compute_total() / len(self.marks) if self.marks else 0\n",
    "\n",
    "    def get_grade(self):\n",
    "        avg = self.compute_average()\n",
    "        if avg >= 80:\n",
    "            return \"A\"\n",
    "        elif avg >= 70:\n",
    "            return \"B\"\n",
    "        elif avg >= 60:\n",
    "            return \"C\"\n",
    "        elif avg >= 50:\n",
    "            return \"D\"\n",
    "        else:\n",
    "            return \"F\"\n",
    "\n",
    "    def to_dict(self):\n",
    "        \"\"\"Convert student data to a dictionary for JSON export.\"\"\"\n",
    "        return {\n",
    "            \"type\": self.__class__.__name__,\n",
    "            \"student_id\": self.student_id,\n",
    "            \"name\": self.name,\n",
    "            \"marks\": self.marks,\n",
    "            \"total\": self.compute_total(),\n",
    "            \"average\": round(self.compute_average(), 2),\n",
    "            \"grade\": self.get_grade()\n",
    "        }\n",
    "\n",
    "    def display_evaluation(self):\n",
    "        \"\"\"Polymorphic method to display evaluation (coursework or thesis).\"\"\"\n",
    "        print(f\"{self.name} ({self.__class__.__name__})\")\n",
    "        print(f\"  Total Marks: {self.compute_total()} | Average: {self.compute_average():.2f}\")\n",
    "        print(f\"  Grade: {self.get_grade()}\\n\")"
   ]
  },
  {
   "cell_type": "markdown",
   "metadata": {},
   "source": [
    "4.3. Subclass PostgraduateStudent adds research_topic and evaluate_thesis() returning 'Pass' or 'Revise'."
   ]
  },
  {
   "cell_type": "code",
   "execution_count": 13,
   "metadata": {},
   "outputs": [],
   "source": [
    "# Sub-class for \"PostgraduateStudent\"\n",
    "\n",
    "class PostgraduateStudent(Student):\n",
    "    def __init__(self, student_id, name, marks, research_topic):\n",
    "        super().__init__(student_id, name, marks)\n",
    "        self.research_topic = research_topic\n",
    "\n",
    "    def evaluate_thesis(self):\n",
    "        \"\"\"\n",
    "        Randomly returns 'Pass' or 'Revise' to simulate evaluation.\n",
    "        Could be replaced with real assessment logic.\n",
    "        \"\"\"\n",
    "        return random.choice([\"Pass\", \"Revise\"])\n",
    "\n",
    "    def to_dict(self):\n",
    "        data = super().to_dict()\n",
    "        data[\"research_topic\"] = self.research_topic\n",
    "        data[\"thesis_result\"] = self.evaluate_thesis()\n",
    "        return data\n",
    "\n",
    "    # Polymorphic override\n",
    "    def display_evaluation(self):\n",
    "        thesis_result = self.evaluate_thesis()\n",
    "        print(f\"{self.name} ({self.__class__.__name__})\")\n",
    "        print(f\"  Total Marks: {self.compute_total()} | Average: {self.compute_average():.2f}\")\n",
    "        print(f\"  Grade: {self.get_grade()} | Thesis: {thesis_result}\")\n",
    "        print(f\"  Research Topic: {self.research_topic}\\n\")"
   ]
  },
  {
   "cell_type": "markdown",
   "metadata": {},
   "source": [
    "4.4. Save and load data to/from JSON."
   ]
  },
  {
   "cell_type": "code",
   "execution_count": 14,
   "metadata": {},
   "outputs": [],
   "source": [
    "# save to JSON\n",
    "def save_students_to_json(students, filename=\"students.json\"):\n",
    "    data = [s.to_dict() for s in students]\n",
    "    with open(filename, \"w\") as f:\n",
    "        json.dump(data, f, indent=4)\n",
    "    print(f\"Data saved to {filename}\")\n",
    "    \n",
    "# load from JSON\n",
    "def load_students_from_json(filename=\"students.json\"):\n",
    "    with open(filename, \"r\") as f:\n",
    "        data = json.load(f)\n",
    "    print(f\"Loaded {len(data)} student records from {filename}\")\n",
    "    return data"
   ]
  },
  {
   "cell_type": "markdown",
   "metadata": {},
   "source": [
    "4.5. Use polymorphism to display coursework and thesis evaluations together."
   ]
  },
  {
   "cell_type": "code",
   "execution_count": 15,
   "metadata": {},
   "outputs": [
    {
     "name": "stdout",
     "output_type": "stream",
     "text": [
      "Student Grading System\n",
      "\n",
      "Alice Namatovu (Student)\n",
      "  Total Marks: 253 | Average: 84.33\n",
      "  Grade: A\n",
      "\n",
      "Brian Ouma (Student)\n",
      "  Total Marks: 185 | Average: 61.67\n",
      "  Grade: C\n",
      "\n",
      "Catherine Ayo (PostgraduateStudent)\n",
      "  Total Marks: 170 | Average: 85.00\n",
      "  Grade: A | Thesis: Pass\n",
      "  Research Topic: Multi-modal Sentiment Analysis\n",
      "\n",
      "Data saved to students.json\n",
      "Loaded 3 student records from students.json\n",
      "\n",
      "Loaded Data Preview\n",
      "Alice Namatovu (Student): Grade A\n",
      "Brian Ouma (Student): Grade C\n",
      "Catherine Ayo (PostgraduateStudent): Grade A\n"
     ]
    }
   ],
   "source": [
    "# Displaying results\n",
    "\n",
    "if __name__ == \"__main__\":\n",
    "    print(\"Student Grading System\\n\")\n",
    "\n",
    "    # Create sample students\n",
    "    s1 = Student(\"UG001\", \"Alice Namatovu\", {\"Math\": 85, \"English\": 78, \"Science\": 90})\n",
    "    s2 = Student(\"UG002\", \"Brian Ouma\", {\"Math\": 65, \"English\": 58, \"Science\": 62})\n",
    "    s3 = PostgraduateStudent(\"PG101\", \"Catherine Ayo\", {\"Research Methods\": 88, \"Statistics\": 82}, \"Multi-modal Sentiment Analysis\")\n",
    "\n",
    "    # Polymorphism (using one loop to handle both undergraduate & postgraduate)\n",
    "    students = [s1, s2, s3]\n",
    "    for s in students:\n",
    "        s.display_evaluation()\n",
    "\n",
    "    # Save and load data\n",
    "    save_students_to_json(students)\n",
    "    loaded_data = load_students_from_json()\n",
    "\n",
    "    print(\"\\nLoaded Data Preview\")\n",
    "    for record in loaded_data:\n",
    "        print(f\"{record['name']} ({record['type']}): Grade {record['grade']}\")"
   ]
  },
  {
   "cell_type": "markdown",
   "metadata": {},
   "source": [
    "## Question 5\n",
    "\n",
    "Using the Spotify API (spotipy) or a mock JSON file of Ugandan artists:\n",
    "\n",
    "Attempt the following tasks:"
   ]
  },
  {
   "cell_type": "code",
   "execution_count": 16,
   "metadata": {},
   "outputs": [],
   "source": [
    "# Spotipy! (https://spotipy.readthedocs.io/en/2.19.0/)\n",
    "# Should let us access spotify data via python\n",
    "\n",
    "# try:\n",
    "#     import spotipy\n",
    "#     from spotipy.oauth2 import SpotifyClientCredentials\n",
    "# except ImportError:\n",
    "#     spotipy = None\n",
    "#     print(\"spotipy not installed; using mock JSON data.\")\n",
    "\n",
    "# Failed, skipping for now"
   ]
  },
  {
   "cell_type": "code",
   "execution_count": 17,
   "metadata": {},
   "outputs": [],
   "source": [
    "import matplotlib.pyplot as plt\n",
    "import seaborn as sns\n",
    "import pandas as pd\n",
    "import json"
   ]
  },
  {
   "cell_type": "markdown",
   "metadata": {},
   "source": [
    "5.1. Create a class UgandaMusicAnalytics with methods to fetch top tracks of Ugandan artists (eg. Azawi, Sheebah etc.)."
   ]
  },
  {
   "cell_type": "code",
   "execution_count": 18,
   "metadata": {},
   "outputs": [],
   "source": [
    "# Base class for \"UgandaMusicAnalytics\"\n",
    "\n",
    "class UgandaMusicAnalytics:\n",
    "    def __init__(self, mock_file=\"ugandan_artists.json\"):\n",
    "        \"\"\"\n",
    "        Initialize with a mock JSON file containing Ugandan artists and their tracks.\n",
    "        \"\"\"\n",
    "        self.mock_file = mock_file\n",
    "        self.track_data = []\n",
    "\n",
    "    def fetch_tracks(self):\n",
    "        \"\"\"Fetch top tracks from the mock JSON file.\"\"\"\n",
    "        try:\n",
    "            with open(self.mock_file, \"r\") as f:\n",
    "                self.track_data = json.load(f)\n",
    "            print(f\"Loaded {len(self.track_data)} tracks from {self.mock_file}\")\n",
    "        except FileNotFoundError:\n",
    "            print(f\"Mock file '{self.mock_file}' not found.\")\n",
    "            self.track_data = []\n",
    "        except json.JSONDecodeError:\n",
    "            print(f\"Error decoding JSON in '{self.mock_file}'\")\n",
    "            self.track_data = []\n",
    "    \n",
    "    # (5.2) Creating Pandas DataFrame\n",
    "\n",
    "    def to_dataframe(self):\n",
    "        df = pd.DataFrame(self.track_data)\n",
    "        if df.empty:\n",
    "            print(\"No track data available.\")\n",
    "        else:\n",
    "            # Keep only relevant columns\n",
    "            df = df[[\"artist\", \"track_name\", \"play_count\", \"popularity\", \"country\"]]\n",
    "        return df\n",
    "    \n",
    "    # (5.3) plot popularity\n",
    "    \n",
    "    def plot_popularity(self, df):\n",
    "        if df.empty:\n",
    "            print(\"⚠ Cannot plot empty DataFrame.\")\n",
    "            return\n",
    "        plt.figure(figsize=(10, 6))\n",
    "        sns.barplot(x=\"track_name\", y=\"popularity\", hue=\"artist\", data=df)\n",
    "        plt.xticks(rotation=45)\n",
    "        plt.title(\"Ugandan Tracks Popularity\")\n",
    "        plt.ylabel(\"Popularity\")\n",
    "        plt.xlabel(\"Track Name\")\n",
    "        plt.tight_layout()\n",
    "        plt.show()\n",
    "        \n",
    "    # Save results to a JSON file.\n",
    "\n",
    "    def save_to_json(self, filename=\"ugandan_tracks_output.json\"):\n",
    "        try:\n",
    "            with open(filename, \"w\") as f:\n",
    "                json.dump(self.track_data, f, indent=4)\n",
    "            print(f\"Track data saved to {filename}\")\n",
    "        except Exception as e:\n",
    "            print(f\"Error saving JSON: {e}\")\n",
    "    \n",
    "    "
   ]
  },
  {
   "cell_type": "markdown",
   "metadata": {},
   "source": [
    "5.2. Use pandas to create a DataFrame of track names, play counts, and popularity."
   ]
  },
  {
   "cell_type": "markdown",
   "metadata": {},
   "source": [
    "5.3. Plot a Seaborn bar chart showing track popularity."
   ]
  },
  {
   "cell_type": "markdown",
   "metadata": {},
   "source": [
    "5.4. Save results to a JSON file."
   ]
  },
  {
   "cell_type": "markdown",
   "metadata": {},
   "source": [
    "5.6. Create a subclass LocalArtistAnalytics that filters tracks produced in Uganda only."
   ]
  },
  {
   "cell_type": "code",
   "execution_count": 19,
   "metadata": {},
   "outputs": [],
   "source": [
    "# Subclass for local Ugandan tracks\n",
    "\n",
    "class LocalArtistAnalytics(UgandaMusicAnalytics):\n",
    "    def filter_local_tracks(self):\n",
    "        \"\"\"Keep only tracks produced in Uganda.\"\"\"\n",
    "        self.track_data = [t for t in self.track_data if t.get(\"country\") == \"UG\"]\n",
    "        print(f\"Filtered to {len(self.track_data)} local Ugandan tracks\")"
   ]
  },
  {
   "cell_type": "code",
   "execution_count": 20,
   "metadata": {},
   "outputs": [
    {
     "name": "stdout",
     "output_type": "stream",
     "text": [
      "Loaded 5 tracks from ugandan_artists.json\n",
      "\n",
      "All Tracks\n",
      "           artist  track_name  play_count  popularity country\n",
      "0           Azawi   Quinamino      100000          85      UG\n",
      "1         Sheebah    Enyenene       95000          80      UG\n",
      "2     Fik Fameica      Kutama       90000          75      UG\n",
      "3           Azawi     Nakyuka       85000          78      UG\n",
      "4  Foreign Artist  Global Hit      200000          90      US\n"
     ]
    },
    {
     "data": {
      "image/png": "[encoded data removed]",
      "text/plain": [
       "<Figure size 1000x600 with 1 Axes>"
      ]
     },
     "metadata": {},
     "output_type": "display_data"
    },
    {
     "name": "stdout",
     "output_type": "stream",
     "text": [
      "Track data saved to ugandan_tracks_all.json\n",
      "Loaded 5 tracks from ugandan_artists.json\n",
      "Filtered to 4 local Ugandan tracks\n",
      "\n",
      "Local Ugandan Tracks\n",
      "        artist track_name  play_count  popularity country\n",
      "0        Azawi  Quinamino      100000          85      UG\n",
      "1      Sheebah   Enyenene       95000          80      UG\n",
      "2  Fik Fameica     Kutama       90000          75      UG\n",
      "3        Azawi    Nakyuka       85000          78      UG\n"
     ]
    },
    {
     "data": {
      "image/png": "[encoded data removed]",
      "text/plain": [
       "<Figure size 1000x600 with 1 Axes>"
      ]
     },
     "metadata": {},
     "output_type": "display_data"
    },
    {
     "name": "stdout",
     "output_type": "stream",
     "text": [
      "Track data saved to ugandan_tracks_local.json\n"
     ]
    }
   ],
   "source": [
    "if __name__ == \"__main__\":\n",
    "    \n",
    "    # Create a mock JSON file for testing\n",
    "    mock_data = [\n",
    "        {\"artist\": \"Azawi\", \"track_name\": \"Quinamino\", \"popularity\": 85, \"play_count\": 100000, \"country\": \"UG\"},\n",
    "        {\"artist\": \"Sheebah\", \"track_name\": \"Enyenene\", \"popularity\": 80, \"play_count\": 95000, \"country\": \"UG\"},\n",
    "        {\"artist\": \"Fik Fameica\", \"track_name\": \"Kutama\", \"popularity\": 75, \"play_count\": 90000, \"country\": \"UG\"},\n",
    "        {\"artist\": \"Azawi\", \"track_name\": \"Nakyuka\", \"popularity\": 78, \"play_count\": 85000, \"country\": \"UG\"},\n",
    "        {\"artist\": \"Foreign Artist\", \"track_name\": \"Global Hit\", \"popularity\": 90, \"play_count\": 200000, \"country\": \"US\"}\n",
    "    ]\n",
    "    with open(\"ugandan_artists.json\", \"w\") as f:\n",
    "        json.dump(mock_data, f, indent=4)\n",
    "\n",
    "    # Create analytics object\n",
    "    analytics = UgandaMusicAnalytics()\n",
    "    analytics.fetch_tracks()\n",
    "    df = analytics.to_dataframe()\n",
    "    print(\"\\nAll Tracks\")\n",
    "    print(df)\n",
    "\n",
    "    analytics.plot_popularity(df)\n",
    "    analytics.save_to_json(\"ugandan_tracks_all.json\")\n",
    "\n",
    "    # Test subclass\n",
    "    local_analytics = LocalArtistAnalytics()\n",
    "    local_analytics.fetch_tracks()\n",
    "    local_analytics.filter_local_tracks()\n",
    "    df_local = local_analytics.to_dataframe()\n",
    "    print(\"\\nLocal Ugandan Tracks\")\n",
    "    print(df_local)\n",
    "\n",
    "    local_analytics.plot_popularity(df_local)\n",
    "    local_analytics.save_to_json(\"ugandan_tracks_local.json\")"
   ]
  },
  {
   "cell_type": "markdown",
   "metadata": {},
   "source": [
    "## Question 6\n",
    "\n",
    "The Bank of Uganda provides JSON-based daily exchange rate data (try to locate this online) for\n",
    "USD, GBP, and EUR.\n",
    "\n",
    "Attempt the following tasks:"
   ]
  },
  {
   "cell_type": "markdown",
   "metadata": {},
   "source": [
    "6.1. Write a class ExchangeRatePipeline that fetches or loads data from local exchange_rates.json."
   ]
  }
 ],
 "metadata": {
  "kernelspec": {
   "display_name": "myenv",
   "language": "python",
   "name": "python3"
  },
  "language_info": {
   "codemirror_mode": {
    "name": "ipython",
    "version": 3
   },
   "file_extension": ".py",
   "mimetype": "text/x-python",
   "name": "python",
   "nbconvert_exporter": "python",
   "pygments_lexer": "ipython3",
   "version": "3.10.2"
  }
 },
 "nbformat": 4,
 "nbformat_minor": 2
}
