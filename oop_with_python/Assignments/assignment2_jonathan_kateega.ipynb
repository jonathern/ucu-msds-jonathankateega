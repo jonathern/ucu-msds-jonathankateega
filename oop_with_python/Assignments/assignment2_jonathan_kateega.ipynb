{
 "cells": [
  {
   "cell_type": "markdown",
   "metadata": {},
   "source": [
    "# MSDS OOP With Python\n",
    "## Assignment 2\n",
    "### Advent 2025\n",
    "\n",
    "Author: Jonathan Stephen KATEEGA\\\n",
    "Access No: B34976"
   ]
  },
  {
   "cell_type": "markdown",
   "metadata": {},
   "source": [
    "## Question 1\n",
    "You are analyzing monthly household electricity consumption data for 10 customers in Kampala. Each record contains: customer_name, units_used, connection_type (e.g., 'Bosco', 245, 'Domestic').\\\n",
    "\n",
    "Attempt the following tasks:"
   ]
  },
  {
   "cell_type": "markdown",
   "metadata": {},
   "source": [
    "1.1. Use zip() and map() to pair customer names with total bills computed by a lambda:\n",
    "     • Domestic rate = 820 UGX/unit\n",
    "     • Commercial rate = 1000 UGX/unit"
   ]
  },
  {
   "cell_type": "code",
   "execution_count": 4,
   "metadata": {},
   "outputs": [
    {
     "name": "stdout",
     "output_type": "stream",
     "text": [
      "[('Bosco', 200900), ('Jane', 400000), ('Peter', 492000), ('Mariam', 520000), ('Ali', 246000), ('Grace', 800000), ('Isaac', 393600), ('Sarah', 574000), ('John', 1000000), ('Anna', 287000)]\n"
     ]
    }
   ],
   "source": [
    "\"\"\"\n",
    "1.1. Use zip() and map() to pair customer names with total bills computed by a lambda:\n",
    "     • Domestic rate = 820 UGX/unit\n",
    "     • Commercial rate = 1000 UGX/unit\n",
    "\"\"\"\n",
    "\n",
    "# Assuming 10 customers as below\n",
    "\n",
    "customers = [\n",
    "    (\"Bosco\", 245, \"Domestic\"),\n",
    "    (\"Jane\", 400, \"Commercial\"),\n",
    "    (\"Peter\", 600, \"Domestic\"),\n",
    "    (\"Mariam\", 520, \"Commercial\"),\n",
    "    (\"Ali\", 300, \"Domestic\"),\n",
    "    (\"Grace\", 800, \"Commercial\"),\n",
    "    (\"Isaac\", 480, \"Domestic\"),\n",
    "    (\"Sarah\", 700, \"Domestic\"),\n",
    "    (\"John\", 1000, \"Commercial\"),\n",
    "    (\"Anna\", 350, \"Domestic\")\n",
    "]\n",
    "\n",
    "# Defining the billing rates\n",
    "domestic_rate = 820\n",
    "commercial_rate = 1000\n",
    "\n",
    "# Computing bills using map() and lambda\n",
    "bills = list(map(lambda record: \n",
    "                 record[1] * (domestic_rate if record[2] == 'Domestic' else commercial_rate), \n",
    "                 customers))\n",
    "\n",
    "# Pairing names with their computed bills using zip()\n",
    "name_bill_pairs = list(zip([c[0] for c in customers], bills))\n",
    "print(name_bill_pairs)"
   ]
  },
  {
   "cell_type": "markdown",
   "metadata": {},
   "source": [
    "1.2. Use filter() to separate high-consumption customers (units > 500)."
   ]
  },
  {
   "cell_type": "code",
   "execution_count": 5,
   "metadata": {},
   "outputs": [
    {
     "name": "stdout",
     "output_type": "stream",
     "text": [
      "[('Peter', 600, 'Domestic'), ('Mariam', 520, 'Commercial'), ('Grace', 800, 'Commercial'), ('Sarah', 700, 'Domestic'), ('John', 1000, 'Commercial')]\n"
     ]
    }
   ],
   "source": [
    "# 1.2. Use filter() to separate high-consumption customers (units > 500).\n",
    "\n",
    "high_consumers = list(filter(lambda c: c[1] > 500, customers))\n",
    "print(high_consumers)"
   ]
  },
  {
   "cell_type": "markdown",
   "metadata": {},
   "source": [
    "1.3. Using *args, write a function average_bill(*bills) that computes the average."
   ]
  },
  {
   "cell_type": "code",
   "execution_count": 6,
   "metadata": {},
   "outputs": [
    {
     "name": "stdout",
     "output_type": "stream",
     "text": [
      "Average Bill: UGX 491,350\n"
     ]
    }
   ],
   "source": [
    "# Using *args to computes the average.\n",
    "\n",
    "def average_bill(*bills):\n",
    "    return sum(bills) / len(bills) if bills else 0\n",
    "\n",
    "avg = average_bill(*bills)\n",
    "print(f\"Average Bill: UGX {avg:,.0f}\")"
   ]
  },
  {
   "cell_type": "markdown",
   "metadata": {},
   "source": [
    "1.4. Display results using list comprehension in the format: ['Bosco: UGX 200,900', 'Jane:\n",
    "UGX 400,000', ...]"
   ]
  },
  {
   "cell_type": "code",
   "execution_count": 7,
   "metadata": {},
   "outputs": [
    {
     "name": "stdout",
     "output_type": "stream",
     "text": [
      "Customer Bills: ['Bosco: UGX 200,900', 'Jane: UGX 400,000', 'Peter: UGX 492,000', 'Mariam: UGX 520,000', 'Ali: UGX 246,000', 'Grace: UGX 800,000', 'Isaac: UGX 393,600', 'Sarah: UGX 574,000', 'John: UGX 1,000,000', 'Anna: UGX 287,000']\n",
      "High Consumers: ['Peter', 'Mariam', 'Grace', 'Sarah', 'John']\n",
      "Average Bill: UGX 491,350\n"
     ]
    }
   ],
   "source": [
    "# Displaying results using list comprehension.\n",
    "\n",
    "formatted = [f\"{name}: UGX {bill:,.0f}\" for name, bill in name_bill_pairs]\n",
    "\n",
    "print(\"Customer Bills:\", formatted)\n",
    "print(\"High Consumers:\", [c[0] for c in high_consumers])\n",
    "print(f\"Average Bill: UGX {avg:,.0f}\")"
   ]
  },
  {
   "cell_type": "markdown",
   "metadata": {},
   "source": [
    "## Question 2\n",
    "Each vendor reports different fruit prices daily:\n",
    "\n",
    "mango_prices = [2500, 2700, 2600, 2800]\\\n",
    "orange_prices = [3000, 3200, 3100, 3050]\\\n",
    "apple_prices = [4500, 4600, 4550, 4700]\n",
    "\n",
    "Attempt the following tasks:"
   ]
  },
  {
   "cell_type": "code",
   "execution_count": 8,
   "metadata": {},
   "outputs": [],
   "source": [
    "mango_prices = [2500, 2700, 2600, 2800]\n",
    "orange_prices = [3000, 3200, 3100, 3050]\n",
    "apple_prices = [4500, 4600, 4550, 4700]"
   ]
  },
  {
   "cell_type": "markdown",
   "metadata": {},
   "source": [
    "2.1. Use zip_longest() to handle missing prices."
   ]
  },
  {
   "cell_type": "code",
   "execution_count": 9,
   "metadata": {},
   "outputs": [
    {
     "name": "stdout",
     "output_type": "stream",
     "text": [
      "[(2500, 3000, 4500), (2700, 3200, 4600), (2600, 3100, 4550), (2800, 3050, 4700)]\n"
     ]
    }
   ],
   "source": [
    "# Using zip_longest() to handle missing prices\n",
    "\n",
    "from itertools import zip_longest\n",
    "\n",
    "all_prices = list(zip_longest(mango_prices, orange_prices, apple_prices, fillvalue=None))\n",
    "print(all_prices)"
   ]
  },
  {
   "cell_type": "markdown",
   "metadata": {},
   "source": [
    "2.2. Define a lambda function avg = lambda lst: sum(lst)/len(lst) to compute average per fruit."
   ]
  },
  {
   "cell_type": "code",
   "execution_count": null,
   "metadata": {},
   "outputs": [],
   "source": [
    "# Defining lambda function to compute average per fruit\n",
    "\n",
    "avg = lambda lst: sum(lst) / len(lst)\n",
    "\n",
    "mango_avg  = avg(mango_prices)\n",
    "orange_avg = avg(orange_prices)\n",
    "apple_avg  = avg(apple_prices)"
   ]
  },
  {
   "cell_type": "code",
   "execution_count": 26,
   "metadata": {},
   "outputs": [],
   "source": [
    "fruits = {\n",
    "    \"Mango\": avg(mango_prices),\n",
    "    \"Orange\": avg(orange_prices),\n",
    "    \"Apple\": avg(apple_prices)\n",
    "}"
   ]
  },
  {
   "cell_type": "markdown",
   "metadata": {},
   "source": [
    "2.3. Create a generator expression that yields all fruits with average price above 3000."
   ]
  },
  {
   "cell_type": "code",
   "execution_count": 27,
   "metadata": {},
   "outputs": [
    {
     "name": "stdout",
     "output_type": "stream",
     "text": [
      "Fruits Above Average Price: Orange, Apple\n"
     ]
    }
   ],
   "source": [
    "# Using a generator expression to return all fruits with average price > 3000\n",
    "\n",
    "above_avg = (fruit for fruit, price in fruits.items() if price > 3000)\n",
    "\n",
    "print(\"Fruits Above Average Price:\", \", \".join(above_avg))"
   ]
  },
  {
   "cell_type": "markdown",
   "metadata": {},
   "source": [
    "## Question 3\n",
    "Temperature data (°C):\n",
    "\n",
    "kampala = [28, 30, 29, 27, 26, 29, 30, 31, 32, 30, 29, 28]\\\n",
    "gulu = [25, 26, 27, 27, 28, 29, 30, 30, 29, 27, 26, 25]\\\n",
    "mbarara = [22, 23, 23, 24, 25, 25, 26, 27, 27, 26, 24, 23]\n",
    "\n",
    "Attempt the following tasks:"
   ]
  },
  {
   "cell_type": "code",
   "execution_count": 28,
   "metadata": {},
   "outputs": [],
   "source": [
    "kampala = [28, 30, 29, 27, 26, 29, 30, 31, 32, 30, 29, 28]\n",
    "gulu = [25, 26, 27, 27, 28, 29, 30, 30, 29, 27, 26, 25]\n",
    "mbarara = [22, 23, 23, 24, 25, 25, 26, 27, 27, 26, 24, 23]"
   ]
  },
  {
   "cell_type": "markdown",
   "metadata": {},
   "source": [
    "3.1. Use map() with lambda to convert all temperatures to Fahrenheit."
   ]
  },
  {
   "cell_type": "code",
   "execution_count": 29,
   "metadata": {},
   "outputs": [
    {
     "name": "stdout",
     "output_type": "stream",
     "text": [
      "[82.4, 86.0, 84.2, 80.6, 78.8, 84.2, 86.0, 87.8, 89.6, 86.0, 84.2, 82.4]\n"
     ]
    }
   ],
   "source": [
    "# Converting all temperatures to Fahrenheit\n",
    "# Formula: F = (C × 9/5) + 32\n",
    "\n",
    "kampala_f = list(map(lambda c: (c * 9/5) + 32, kampala))\n",
    "gulu_f = list(map(lambda c: (c * 9/5) + 32, gulu))\n",
    "mbarara_f = list(map(lambda c: (c * 9/5) + 32, mbarara))\n",
    "\n",
    "print(kampala_f)"
   ]
  },
  {
   "cell_type": "markdown",
   "metadata": {},
   "source": [
    "3.2. Use zip() to pair months (Jan–Dec) with Kampala temps."
   ]
  },
  {
   "cell_type": "code",
   "execution_count": 30,
   "metadata": {},
   "outputs": [
    {
     "name": "stdout",
     "output_type": "stream",
     "text": [
      "[('Jan', 28), ('Feb', 30), ('Mar', 29), ('Apr', 27), ('May', 26), ('Jun', 29), ('Jul', 30), ('Aug', 31), ('Sep', 32), ('Oct', 30), ('Nov', 29), ('Dec', 28)]\n"
     ]
    }
   ],
   "source": [
    "# Pairing months with Kampala temps\n",
    "\n",
    "months = [\"Jan\", \"Feb\", \"Mar\", \"Apr\", \"May\", \"Jun\", \n",
    "          \"Jul\", \"Aug\", \"Sep\", \"Oct\", \"Nov\", \"Dec\"]\n",
    "\n",
    "kampala_monthly = list(zip(months, kampala))\n",
    "print(kampala_monthly)"
   ]
  },
  {
   "cell_type": "markdown",
   "metadata": {},
   "source": [
    "3.3. Use filter() to identify months with temperature > 30°C."
   ]
  },
  {
   "cell_type": "code",
   "execution_count": 33,
   "metadata": {},
   "outputs": [
    {
     "name": "stdout",
     "output_type": "stream",
     "text": [
      "[('Aug', 31), ('Sep', 32)]\n"
     ]
    }
   ],
   "source": [
    "# Identifying months with temp > 30ºC.\n",
    "\n",
    "hot_months = list(filter(lambda m: m[1] > 30, kampala_monthly))\n",
    "print(hot_months)"
   ]
  },
  {
   "cell_type": "markdown",
   "metadata": {},
   "source": [
    "3.4. Create a generator to yield month names and temperatures above threshold.\\\n",
    "3.5. Print as: Hot months in Kampala: July - 31°C, August - 32°C"
   ]
  },
  {
   "cell_type": "code",
   "execution_count": 34,
   "metadata": {},
   "outputs": [
    {
     "name": "stdout",
     "output_type": "stream",
     "text": [
      "Hot months in Kampala: Aug - 31°C, Sep - 32°C\n"
     ]
    }
   ],
   "source": [
    "# Using a generator expression to return all months with temp > 30ºC\n",
    "\n",
    "hot_gen = (f\"{month} - {temp}°C\" for month, temp in kampala_monthly if temp > 30)\n",
    "\n",
    "print(\"Hot months in Kampala:\", \", \".join(hot_gen))"
   ]
  },
  {
   "cell_type": "markdown",
   "metadata": {},
   "source": [
    "## Question 4\n",
    "Temperature data (°C):\n",
    "\n",
    "Installment data:\n",
    "    \n",
    "    students = ['Alex', 'Grace', 'Sarah', 'Brian']\n",
    "\n",
    "    installments = [\n",
    "        [150000, 200000, 250000],\n",
    "        [500000, 0, 200000],\n",
    "        [300000, 300000, 300000],\n",
    "        [400000, 100000, 0]\n",
    "    ]\n",
    "\n",
    "Attempt the following tasks:"
   ]
  },
  {
   "cell_type": "code",
   "execution_count": 39,
   "metadata": {},
   "outputs": [],
   "source": [
    "students = ['Alex', 'Grace', 'Sarah', 'Brian']\n",
    "installments = [\n",
    "    [150000, 200000, 250000],\n",
    "    [500000, 0, 200000],\n",
    "    [300000, 300000, 300000],\n",
    "    [400000, 100000, 0]\n",
    "]"
   ]
  },
  {
   "cell_type": "markdown",
   "metadata": {},
   "source": [
    "4.1. Write a lambda function that sums valid payments and ignores zeros."
   ]
  },
  {
   "cell_type": "markdown",
   "metadata": {},
   "source": [
    "4.2. Use map() to compute total paid by each student."
   ]
  },
  {
   "cell_type": "code",
   "execution_count": 42,
   "metadata": {},
   "outputs": [
    {
     "name": "stdout",
     "output_type": "stream",
     "text": [
      "[600000, 700000, 900000, 500000]\n"
     ]
    }
   ],
   "source": [
    "# Summing up valid payments using a lambda function\n",
    "\n",
    "valid_sum = lambda lst: sum(i for i in lst if i > 0)\n",
    "\n",
    "totals = list(map(valid_sum, installments))\n",
    "print(totals)"
   ]
  },
  {
   "cell_type": "markdown",
   "metadata": {},
   "source": [
    "4.3. Combine student names and totals using zip()."
   ]
  },
  {
   "cell_type": "code",
   "execution_count": 43,
   "metadata": {},
   "outputs": [
    {
     "name": "stdout",
     "output_type": "stream",
     "text": [
      "[('Alex', 600000), ('Grace', 700000), ('Sarah', 900000), ('Brian', 500000)]\n"
     ]
    }
   ],
   "source": [
    "# Combining student names and totals\n",
    "\n",
    "student_totals = list(zip(students, totals))\n",
    "print(student_totals)"
   ]
  },
  {
   "cell_type": "markdown",
   "metadata": {},
   "source": [
    "4.4. Use filter() to find students who have cleared full fees (≥600,000)."
   ]
  },
  {
   "cell_type": "code",
   "execution_count": 44,
   "metadata": {},
   "outputs": [
    {
     "name": "stdout",
     "output_type": "stream",
     "text": [
      "[('Alex', 600000), ('Grace', 700000), ('Sarah', 900000)]\n"
     ]
    }
   ],
   "source": [
    "# Filtering students who have cleared full fees >= 600000\n",
    "\n",
    "cleared = list(filter(lambda s: s[1] >= 600000, student_totals))\n",
    "print(cleared)"
   ]
  },
  {
   "cell_type": "markdown",
   "metadata": {},
   "source": [
    "4.5. Create payment_summary(**kwargs) that receives named args like Alex=600000 and prints summaries."
   ]
  },
  {
   "cell_type": "code",
   "execution_count": 45,
   "metadata": {},
   "outputs": [
    {
     "name": "stdout",
     "output_type": "stream",
     "text": [
      "Alex paid UGX 600,000\n",
      "Grace paid UGX 700,000\n",
      "Sarah paid UGX 900,000\n",
      "Brian paid UGX 500,000\n"
     ]
    }
   ],
   "source": [
    "def payment_summary(**kwargs):\n",
    "    \"\"\"\n",
    "    Receives named args and \n",
    "    prints summaries\n",
    "    \"\"\"\n",
    "    for name, amount in kwargs.items():\n",
    "        print(f\"{name} paid UGX {amount:,}\")\n",
    "\n",
    "\n",
    "# using dictionary unpacking        \n",
    "payment_summary(**dict(student_totals))"
   ]
  },
  {
   "cell_type": "markdown",
   "metadata": {},
   "source": [
    "## Question 5\n",
    "\n",
    "Yield data:\n",
    "\n",
    "districts = ['Bushenyi', 'Mityana', 'Kasese', 'Mbale']\\\n",
    "yield_data = [1200, 1500, 900, 1300]\n",
    "\n",
    "Attempt the following tasks:"
   ]
  },
  {
   "cell_type": "code",
   "execution_count": 46,
   "metadata": {},
   "outputs": [],
   "source": [
    "districts = ['Bushenyi', 'Mityana', 'Kasese', 'Mbale']\n",
    "yield_data = [1200, 1500, 900, 1300]"
   ]
  },
  {
   "cell_type": "markdown",
   "metadata": {},
   "source": [
    "5.1. Use a list comprehension with a lambda to convert yields from kg to tons."
   ]
  },
  {
   "cell_type": "code",
   "execution_count": 47,
   "metadata": {},
   "outputs": [
    {
     "name": "stdout",
     "output_type": "stream",
     "text": [
      "[1.2, 1.5, 0.9, 1.3]\n"
     ]
    }
   ],
   "source": [
    "# Using a list with lambda to convert yields from kg to tons\n",
    "# 1 ton = 1000 kg\n",
    "\n",
    "to_tons = lambda kg: kg / 1000\n",
    "yields_tons = [to_tons(y) for y in yield_data]\n",
    "\n",
    "print(yields_tons)"
   ]
  },
  {
   "cell_type": "markdown",
   "metadata": {},
   "source": [
    "5.2. Write a generator that yields only districts with yield > 1 ton."
   ]
  },
  {
   "cell_type": "code",
   "execution_count": 48,
   "metadata": {},
   "outputs": [
    {
     "name": "stdout",
     "output_type": "stream",
     "text": [
      "['Bushenyi', 'Mityana', 'Mbale']\n"
     ]
    }
   ],
   "source": [
    "# This generator expression yields only districts with yield > 1 ton.\n",
    "\n",
    "high_yield_gen = (district for district, tons in zip(districts, yields_tons) if tons > 1)\n",
    "\n",
    "print(list(high_yield_gen))"
   ]
  },
  {
   "cell_type": "markdown",
   "metadata": {},
   "source": [
    "5.3. Use *args to compute average yield across all districts."
   ]
  },
  {
   "cell_type": "code",
   "execution_count": 49,
   "metadata": {},
   "outputs": [
    {
     "name": "stdout",
     "output_type": "stream",
     "text": [
      "Average yield: 1.23 tons\n"
     ]
    }
   ],
   "source": [
    "# Using *args to compute average yield across all districts.\n",
    "\n",
    "def average_yield(*yields):\n",
    "    return sum(yields) / len(yields)\n",
    "\n",
    "avg = average_yield(*yields_tons)\n",
    "print(f\"Average yield: {avg:.2f} tons\")"
   ]
  },
  {
   "cell_type": "markdown",
   "metadata": {},
   "source": [
    "5.4. Use **kwargs to simulate price changes per district and compute revenue (tons × price)."
   ]
  },
  {
   "cell_type": "code",
   "execution_count": 50,
   "metadata": {},
   "outputs": [],
   "source": [
    "# Using **kwargs to simulate price changes per district and compute revenue\n",
    "\n",
    "def compute_revenue(**kwargs):\n",
    "    # kwargs → e.g. Bushenyi=4000000, Mityana=4500000, ...\n",
    "    for district, price in kwargs.items():\n",
    "        print(f\"{district} price per ton: UGX {price:,}\")\n",
    "        \n",
    "\n",
    "prices = {'Bushenyi': 4000000, 'Mityana': 4800000, 'Kasese': 5000000, 'Mbale': 4200000}\n",
    "\n",
    "revenues = {d: yields_tons[i] * prices[d] for i, d in enumerate(districts)}"
   ]
  },
  {
   "cell_type": "markdown",
   "metadata": {},
   "source": [
    "5.5. Print formatted output like: Kasese produced 0.9 tons — Revenue: UGX 4,500,000."
   ]
  },
  {
   "cell_type": "code",
   "execution_count": 51,
   "metadata": {},
   "outputs": [
    {
     "name": "stdout",
     "output_type": "stream",
     "text": [
      "Bushenyi produced 1.2 tons — Revenue: UGX 4,800,000\n",
      "Mityana produced 1.5 tons — Revenue: UGX 7,200,000\n",
      "Kasese produced 0.9 tons — Revenue: UGX 4,500,000\n",
      "Mbale produced 1.3 tons — Revenue: UGX 5,460,000\n"
     ]
    }
   ],
   "source": [
    "# Printing formatted output like\n",
    "# Example: Kasese produced 0.9 tons — Revenue: UGX 4,500,000.\n",
    "\n",
    "for d, tons in zip(districts, yields_tons):\n",
    "    print(f\"{d} produced {tons:.1f} tons — Revenue: UGX {revenues[d]:,.0f}\")"
   ]
  },
  {
   "cell_type": "markdown",
   "metadata": {},
   "source": [
    "## Question 6\n",
    "\n",
    "Given that sites = ['https://ucu.ac.ug', 'https://harba.ug', 'https://www.bou.or.ug']\n",
    "\n",
    "Attempt the following tasks:"
   ]
  },
  {
   "cell_type": "markdown",
   "metadata": {},
   "source": [
    "6.1. Write a function that takes *urls and uses requests.get() to return response codes."
   ]
  },
  {
   "cell_type": "code",
   "execution_count": 52,
   "metadata": {},
   "outputs": [],
   "source": [
    "# Import the requests module\n",
    "\n",
    "import requests\n",
    "\n",
    "sites = ['https://ucu.ac.ug', 'https://harba.ug', 'https://www.bou.or.ug']"
   ]
  },
  {
   "cell_type": "code",
   "execution_count": 53,
   "metadata": {},
   "outputs": [
    {
     "name": "stdout",
     "output_type": "stream",
     "text": [
      "[('https://ucu.ac.ug', 200), ('https://harba.ug', 200), ('https://www.bou.or.ug', 200)]\n"
     ]
    }
   ],
   "source": [
    "# Take the *urls and use requests.get() to return response codes\n",
    "\n",
    "def check_sites(*urls):\n",
    "    \"\"\"\n",
    "    Use requests.get() safely inside a try/except \n",
    "    block to handle unreachable sites gracefully\n",
    "    \"\"\"\n",
    "    results = []\n",
    "    for url in urls:\n",
    "        try:\n",
    "            response = requests.get(url, timeout=5)\n",
    "            results.append((url, response.status_code))\n",
    "        except requests.RequestException:\n",
    "            results.append((url, None))  # None for unreachable sites\n",
    "    return results\n",
    "\n",
    "responses = check_sites(*sites)\n",
    "print(responses)"
   ]
  },
  {
   "cell_type": "markdown",
   "metadata": {},
   "source": [
    "6.2. Use a list comprehension to print only URLs with status code 200."
   ]
  },
  {
   "cell_type": "code",
   "execution_count": 54,
   "metadata": {},
   "outputs": [
    {
     "name": "stdout",
     "output_type": "stream",
     "text": [
      "['https://ucu.ac.ug', 'https://harba.ug', 'https://www.bou.or.ug']\n"
     ]
    }
   ],
   "source": [
    "# Using list comprehension to print only URLs with status code 200.\n",
    "\n",
    "active_sites = [url for url, code in responses if code == 200]\n",
    "print(active_sites)"
   ]
  },
  {
   "cell_type": "markdown",
   "metadata": {},
   "source": [
    "6.3 Store results in a dictionary using a dictionary comprehension."
   ]
  },
  {
   "cell_type": "code",
   "execution_count": 55,
   "metadata": {},
   "outputs": [
    {
     "name": "stdout",
     "output_type": "stream",
     "text": [
      "{'https://ucu.ac.ug': 200, 'https://harba.ug': 200, 'https://www.bou.or.ug': 200}\n"
     ]
    }
   ],
   "source": [
    "# Store results in a dictionary\n",
    "\n",
    "site_status = {url: code for url, code in responses}\n",
    "print(site_status)"
   ]
  },
  {
   "cell_type": "markdown",
   "metadata": {},
   "source": [
    "6.4. Create a generator expression that yields 'Active Site: <url>' for reachable domains."
   ]
  },
  {
   "cell_type": "code",
   "execution_count": 56,
   "metadata": {},
   "outputs": [
    {
     "name": "stdout",
     "output_type": "stream",
     "text": [
      "Active Site: https://ucu.ac.ug\n",
      "Active Site: https://harba.ug\n",
      "Active Site: https://www.bou.or.ug\n"
     ]
    }
   ],
   "source": [
    "# Use a generator expression to return 'Active Site: <url>' for reachable domains.\n",
    "\n",
    "active_gen = (f\"Active Site: {url}\" for url, code in responses if code == 200)\n",
    "print(*active_gen, sep=\"\\n\")"
   ]
  }
 ],
 "metadata": {
  "kernelspec": {
   "display_name": "myenv",
   "language": "python",
   "name": "python3"
  },
  "language_info": {
   "codemirror_mode": {
    "name": "ipython",
    "version": 3
   },
   "file_extension": ".py",
   "mimetype": "text/x-python",
   "name": "python",
   "nbconvert_exporter": "python",
   "pygments_lexer": "ipython3",
   "version": "3.10.2"
  }
 },
 "nbformat": 4,
 "nbformat_minor": 2
}
