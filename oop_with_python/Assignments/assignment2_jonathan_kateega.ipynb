{
 "cells": [
  {
   "cell_type": "markdown",
   "metadata": {},
   "source": [
    "# MSDS OOP With Python\n",
    "## Assignment 2\n",
    "### Advent 2025\n",
    "\n",
    "Author: Jonathan Stephen KATEEGA\\\n",
    "Access No: B34976"
   ]
  },
  {
   "cell_type": "markdown",
   "metadata": {},
   "source": [
    "## Question 1\n",
    "You are analyzing monthly household electricity consumption data for 10 customers in Kampala. Each record contains: customer_name, units_used, connection_type (e.g., 'Bosco', 245, 'Domestic').\\\n",
    "\n",
    "Attempt the following tasks:"
   ]
  },
  {
   "cell_type": "markdown",
   "metadata": {},
   "source": [
    "1.1. Use zip() and map() to pair customer names with total bills computed by a lambda:\n",
    "     • Domestic rate = 820 UGX/unit\n",
    "     • Commercial rate = 1000 UGX/unit"
   ]
  },
  {
   "cell_type": "code",
   "execution_count": 4,
   "metadata": {},
   "outputs": [
    {
     "name": "stdout",
     "output_type": "stream",
     "text": [
      "[('Bosco', 200900), ('Jane', 400000), ('Peter', 492000), ('Mariam', 520000), ('Ali', 246000), ('Grace', 800000), ('Isaac', 393600), ('Sarah', 574000), ('John', 1000000), ('Anna', 287000)]\n"
     ]
    }
   ],
   "source": [
    "\"\"\"\n",
    "1.1. Use zip() and map() to pair customer names with total bills computed by a lambda:\n",
    "     • Domestic rate = 820 UGX/unit\n",
    "     • Commercial rate = 1000 UGX/unit\n",
    "\"\"\"\n",
    "\n",
    "# Assuming 10 customers as below\n",
    "\n",
    "customers = [\n",
    "    (\"Bosco\", 245, \"Domestic\"),\n",
    "    (\"Jane\", 400, \"Commercial\"),\n",
    "    (\"Peter\", 600, \"Domestic\"),\n",
    "    (\"Mariam\", 520, \"Commercial\"),\n",
    "    (\"Ali\", 300, \"Domestic\"),\n",
    "    (\"Grace\", 800, \"Commercial\"),\n",
    "    (\"Isaac\", 480, \"Domestic\"),\n",
    "    (\"Sarah\", 700, \"Domestic\"),\n",
    "    (\"John\", 1000, \"Commercial\"),\n",
    "    (\"Anna\", 350, \"Domestic\")\n",
    "]\n",
    "\n",
    "# Defining the billing rates\n",
    "domestic_rate = 820\n",
    "commercial_rate = 1000\n",
    "\n",
    "# Computing bills using map() and lambda\n",
    "bills = list(map(lambda record: \n",
    "                 record[1] * (domestic_rate if record[2] == 'Domestic' else commercial_rate), \n",
    "                 customers))\n",
    "\n",
    "# Pairing names with their computed bills using zip()\n",
    "name_bill_pairs = list(zip([c[0] for c in customers], bills))\n",
    "print(name_bill_pairs)"
   ]
  },
  {
   "cell_type": "markdown",
   "metadata": {},
   "source": [
    "1.2. Use filter() to separate high-consumption customers (units > 500)."
   ]
  },
  {
   "cell_type": "code",
   "execution_count": 5,
   "metadata": {},
   "outputs": [
    {
     "name": "stdout",
     "output_type": "stream",
     "text": [
      "[('Peter', 600, 'Domestic'), ('Mariam', 520, 'Commercial'), ('Grace', 800, 'Commercial'), ('Sarah', 700, 'Domestic'), ('John', 1000, 'Commercial')]\n"
     ]
    }
   ],
   "source": [
    "\"\"\"\n",
    "1.2. Use filter() to separate high-consumption customers (units > 500).\n",
    "\"\"\"\n",
    "\n",
    "high_consumers = list(filter(lambda c: c[1] > 500, customers))\n",
    "print(high_consumers)"
   ]
  },
  {
   "cell_type": "markdown",
   "metadata": {},
   "source": [
    "1.3. Using *args, write a function average_bill(*bills) that computes the average."
   ]
  },
  {
   "cell_type": "code",
   "execution_count": 6,
   "metadata": {},
   "outputs": [
    {
     "name": "stdout",
     "output_type": "stream",
     "text": [
      "Average Bill: UGX 491,350\n"
     ]
    }
   ],
   "source": [
    "\"\"\"\n",
    "1.3. Using *args, write a function average_bill(*bills) that computes the average.\n",
    "\"\"\"\n",
    "\n",
    "def average_bill(*bills):\n",
    "    return sum(bills) / len(bills) if bills else 0\n",
    "\n",
    "avg = average_bill(*bills)\n",
    "print(f\"Average Bill: UGX {avg:,.0f}\")"
   ]
  },
  {
   "cell_type": "markdown",
   "metadata": {},
   "source": [
    "1.4. Display results using list comprehension in the format: ['Bosco: UGX 200,900', 'Jane:\n",
    "UGX 400,000', ...]"
   ]
  },
  {
   "cell_type": "code",
   "execution_count": 7,
   "metadata": {},
   "outputs": [
    {
     "name": "stdout",
     "output_type": "stream",
     "text": [
      "Customer Bills: ['Bosco: UGX 200,900', 'Jane: UGX 400,000', 'Peter: UGX 492,000', 'Mariam: UGX 520,000', 'Ali: UGX 246,000', 'Grace: UGX 800,000', 'Isaac: UGX 393,600', 'Sarah: UGX 574,000', 'John: UGX 1,000,000', 'Anna: UGX 287,000']\n",
      "High Consumers: ['Peter', 'Mariam', 'Grace', 'Sarah', 'John']\n",
      "Average Bill: UGX 491,350\n"
     ]
    }
   ],
   "source": [
    "\"\"\"\n",
    "Display results using list comprehension in the format: ['Bosco: UGX 200,900', 'Jane: UGX 400,000', ...]\n",
    "\"\"\"\n",
    "\n",
    "formatted = [f\"{name}: UGX {bill:,.0f}\" for name, bill in name_bill_pairs]\n",
    "\n",
    "print(\"Customer Bills:\", formatted)\n",
    "print(\"High Consumers:\", [c[0] for c in high_consumers])\n",
    "print(f\"Average Bill: UGX {avg:,.0f}\")"
   ]
  },
  {
   "cell_type": "markdown",
   "metadata": {},
   "source": [
    "## Question 2\n",
    "Each vendor reports different fruit prices daily:\n",
    "\n",
    "mango_prices = [2500, 2700, 2600, 2800]\\\n",
    "orange_prices = [3000, 3200, 3100, 3050]\\\n",
    "apple_prices = [4500, 4600, 4550, 4700]\n",
    "\n",
    "Attempt the following tasks:"
   ]
  },
  {
   "cell_type": "code",
   "execution_count": 8,
   "metadata": {},
   "outputs": [],
   "source": [
    "mango_prices = [2500, 2700, 2600, 2800]\n",
    "orange_prices = [3000, 3200, 3100, 3050]\n",
    "apple_prices = [4500, 4600, 4550, 4700]"
   ]
  },
  {
   "cell_type": "markdown",
   "metadata": {},
   "source": [
    "2.1. Use zip_longest() to handle missing prices."
   ]
  },
  {
   "cell_type": "code",
   "execution_count": 9,
   "metadata": {},
   "outputs": [
    {
     "name": "stdout",
     "output_type": "stream",
     "text": [
      "[(2500, 3000, 4500), (2700, 3200, 4600), (2600, 3100, 4550), (2800, 3050, 4700)]\n"
     ]
    }
   ],
   "source": [
    "\"\"\"\n",
    "Using zip_longest() to handle missing prices\n",
    "\"\"\"\n",
    "\n",
    "from itertools import zip_longest\n",
    "\n",
    "all_prices = list(zip_longest(mango_prices, orange_prices, apple_prices, fillvalue=None))\n",
    "print(all_prices)"
   ]
  },
  {
   "cell_type": "code",
   "execution_count": 10,
   "metadata": {},
   "outputs": [
    {
     "data": {
      "text/plain": [
       "'\\nThere were no missing prices.\\n'"
      ]
     },
     "execution_count": 10,
     "metadata": {},
     "output_type": "execute_result"
    }
   ],
   "source": [
    "\"\"\"\n",
    "There were no missing prices.\n",
    "\"\"\""
   ]
  },
  {
   "cell_type": "markdown",
   "metadata": {},
   "source": [
    "2.2. Define a lambda function avg = lambda lst: sum(lst)/len(lst) to compute average per fruit."
   ]
  },
  {
   "cell_type": "code",
   "execution_count": 12,
   "metadata": {},
   "outputs": [],
   "source": [
    "\"\"\"\n",
    "Defining lambda function to compute average per fruit\n",
    "\"\"\"\n",
    "\n",
    "avg = lambda lst: sum(lst) / len(lst)\n",
    "\n",
    "mango_avg  = avg(mango_prices)\n",
    "orange_avg = avg(orange_prices)\n",
    "apple_avg  = avg(apple_prices)"
   ]
  },
  {
   "cell_type": "code",
   "execution_count": 26,
   "metadata": {},
   "outputs": [],
   "source": [
    "fruits = {\n",
    "    \"Mango\": avg(mango_prices),\n",
    "    \"Orange\": avg(orange_prices),\n",
    "    \"Apple\": avg(apple_prices)\n",
    "}"
   ]
  },
  {
   "cell_type": "markdown",
   "metadata": {},
   "source": [
    "2.3. Create a generator expression that yields all fruits with average price above 3000."
   ]
  },
  {
   "cell_type": "code",
   "execution_count": 27,
   "metadata": {},
   "outputs": [
    {
     "name": "stdout",
     "output_type": "stream",
     "text": [
      "Fruits Above Average Price: Orange, Apple\n"
     ]
    }
   ],
   "source": [
    "\"\"\"\n",
    "Using a generator expression to return all fruits with average price > 3000\n",
    "\"\"\"\n",
    "above_avg = (fruit for fruit, price in fruits.items() if price > 3000)\n",
    "\n",
    "print(\"Fruits Above Average Price:\", \", \".join(above_avg))"
   ]
  }
 ],
 "metadata": {
  "kernelspec": {
   "display_name": "myenv",
   "language": "python",
   "name": "python3"
  },
  "language_info": {
   "codemirror_mode": {
    "name": "ipython",
    "version": 3
   },
   "file_extension": ".py",
   "mimetype": "text/x-python",
   "name": "python",
   "nbconvert_exporter": "python",
   "pygments_lexer": "ipython3",
   "version": "3.10.2"
  }
 },
 "nbformat": 4,
 "nbformat_minor": 2
}
