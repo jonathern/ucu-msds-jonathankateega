{
 "cells": [
  {
   "cell_type": "markdown",
   "metadata": {},
   "source": [
    "# MSDS OOP With Python\n",
    "## Assignment 2\n",
    "### Advent 2025\n",
    "\n",
    "Author: Jonathan Stephen KATEEGA\\\n",
    "Access No: B34976"
   ]
  },
  {
   "cell_type": "markdown",
   "metadata": {},
   "source": [
    "## Question 1\n",
    "You are analyzing monthly household electricity consumption data for 10 customers in Kampala. Each record contains: customer_name, units_used, connection_type (e.g., 'Bosco', 245, 'Domestic').\\\n",
    "\n",
    "Attempt the following tasks:"
   ]
  },
  {
   "cell_type": "code",
   "execution_count": 1,
   "metadata": {},
   "outputs": [
    {
     "name": "stdout",
     "output_type": "stream",
     "text": [
      "[('Bosco', 200900), ('Jane', 400000), ('Peter', 492000), ('Mariam', 520000), ('Ali', 246000), ('Grace', 800000), ('Isaac', 393600), ('Sarah', 574000), ('John', 1000000), ('Anna', 287000)]\n"
     ]
    }
   ],
   "source": [
    "\"\"\"\n",
    "1.1. Use zip() and map() to pair customer names with total bills computed by a lambda:\n",
    "     • Domestic rate = 820 UGX/unit\n",
    "     • Commercial rate = 1000 UGX/unit\n",
    "\"\"\"\n",
    "\n",
    "# Assuming 10 customers as below\n",
    "\n",
    "customers = [\n",
    "    (\"Bosco\", 245, \"Domestic\"),\n",
    "    (\"Jane\", 400, \"Commercial\"),\n",
    "    (\"Peter\", 600, \"Domestic\"),\n",
    "    (\"Mariam\", 520, \"Commercial\"),\n",
    "    (\"Ali\", 300, \"Domestic\"),\n",
    "    (\"Grace\", 800, \"Commercial\"),\n",
    "    (\"Isaac\", 480, \"Domestic\"),\n",
    "    (\"Sarah\", 700, \"Domestic\"),\n",
    "    (\"John\", 1000, \"Commercial\"),\n",
    "    (\"Anna\", 350, \"Domestic\")\n",
    "]\n",
    "\n",
    "# Defining the billing rates\n",
    "domestic_rate = 820\n",
    "commercial_rate = 1000\n",
    "\n",
    "# Computing bills using map() and lambda\n",
    "bills = list(map(lambda record: \n",
    "                 record[1] * (domestic_rate if record[2] == 'Domestic' else commercial_rate), \n",
    "                 customers))\n",
    "\n",
    "# Pairing names with their computed bills using zip()\n",
    "name_bill_pairs = list(zip([c[0] for c in customers], bills))\n",
    "print(name_bill_pairs)"
   ]
  },
  {
   "cell_type": "code",
   "execution_count": 2,
   "metadata": {},
   "outputs": [
    {
     "name": "stdout",
     "output_type": "stream",
     "text": [
      "[('Peter', 600, 'Domestic'), ('Mariam', 520, 'Commercial'), ('Grace', 800, 'Commercial'), ('Sarah', 700, 'Domestic'), ('John', 1000, 'Commercial')]\n"
     ]
    }
   ],
   "source": [
    "\"\"\"\n",
    "1.2. Use filter() to separate high-consumption customers (units > 500).\n",
    "\"\"\"\n",
    "\n",
    "high_consumers = list(filter(lambda c: c[1] > 500, customers))\n",
    "print(high_consumers)"
   ]
  },
  {
   "cell_type": "code",
   "execution_count": 3,
   "metadata": {},
   "outputs": [
    {
     "name": "stdout",
     "output_type": "stream",
     "text": [
      "Average Bill: UGX 491,350\n"
     ]
    }
   ],
   "source": [
    "\"\"\"\n",
    "1.3. Using *args, write a function average_bill(*bills) that computes the average.\n",
    "\"\"\"\n",
    "\n",
    "def average_bill(*bills):\n",
    "    return sum(bills) / len(bills) if bills else 0\n",
    "\n",
    "avg = average_bill(*bills)\n",
    "print(f\"Average Bill: UGX {avg:,.0f}\")"
   ]
  }
 ],
 "metadata": {
  "kernelspec": {
   "display_name": "myenv",
   "language": "python",
   "name": "python3"
  },
  "language_info": {
   "codemirror_mode": {
    "name": "ipython",
    "version": 3
   },
   "file_extension": ".py",
   "mimetype": "text/x-python",
   "name": "python",
   "nbconvert_exporter": "python",
   "pygments_lexer": "ipython3",
   "version": "3.10.2"
  }
 },
 "nbformat": 4,
 "nbformat_minor": 2
}
