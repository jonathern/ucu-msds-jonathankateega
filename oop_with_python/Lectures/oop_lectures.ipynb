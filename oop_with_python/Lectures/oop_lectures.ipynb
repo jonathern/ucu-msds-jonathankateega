{
 "cells": [
  {
   "cell_type": "markdown",
   "metadata": {},
   "source": [
    "2025-10-10"
   ]
  },
  {
   "cell_type": "code",
   "execution_count": 2,
   "metadata": {},
   "outputs": [],
   "source": [
    "class engine:\n",
    "    \"\"\"\n",
    "    A class to represent an engine\n",
    "    \"\"\"\n",
    "    \n",
    "    def __init__(self):\n",
    "        self.running = False  # Tracks the engine state\n",
    "\n",
    "    def start(self):\n",
    "        if not self.running:\n",
    "            self.running = True\n",
    "            print(\"Engine started.\")\n",
    "        else:\n",
    "            print(\"Engine is already running.\")\n",
    "\n",
    "    def stop(self):\n",
    "        if self.running:\n",
    "            self.running = False\n",
    "            print(\"Engine stopped.\")\n",
    "        else:\n",
    "            print(\"Engine is already off.\")"
   ]
  },
  {
   "cell_type": "code",
   "execution_count": 3,
   "metadata": {},
   "outputs": [],
   "source": [
    "# Subclass for Electric Engine\n",
    "class electric_engine(engine):\n",
    "    \"\"\"\n",
    "    A class to represent an electric engine\n",
    "    \"\"\"\n",
    "    def __init__(self, battery_capacity):\n",
    "        super().__init__()  # Inherit from engine\n",
    "        self.battery_capacity = battery_capacity  # in kWh\n",
    "\n",
    "    def charge(self):\n",
    "        print(f\"Charging battery ({self.battery_capacity} kWh)... done.\")\n",
    "\n",
    "    def start(self):\n",
    "        if not self.running:\n",
    "            print(\"Silently powering on the electric engine...\")\n",
    "            super().start()\n",
    "        else:\n",
    "            print(\"Electric engine is already running.\")\n",
    "\n",
    "\n",
    "# Subclass for Petrol Engine\n",
    "class petrol_engine(engine):\n",
    "    \"\"\"\n",
    "    A class to represent a petrol engine\n",
    "    \"\"\"\n",
    "    def __init__(self, fuel_capacity):\n",
    "        super().__init__()\n",
    "        self.fuel_capacity = fuel_capacity  # in liters\n",
    "\n",
    "    def refuel(self):\n",
    "        print(f\"Refueling petrol tank ({self.fuel_capacity} liters)... done.\")\n",
    "\n",
    "    def start(self):\n",
    "        if not self.running:\n",
    "            print(\"Igniting petrol engine...\")\n",
    "            super().start()\n",
    "        else:\n",
    "            print(\"Petrol engine is already running.\")"
   ]
  },
  {
   "cell_type": "code",
   "execution_count": 4,
   "metadata": {},
   "outputs": [],
   "source": [
    "class Car:\n",
    "    \"\"\"\n",
    "    A class to represent a car\n",
    "    \"\"\"\n",
    "    def __init__(self, make, model, fuel_capacity):\n",
    "        self.make = make\n",
    "        self.model = model\n",
    "        self.engine = petrol_engine(fuel_capacity)  # Composition\n",
    "\n",
    "    def start(self):\n",
    "        print(f\"Starting {self.make} {self.model}...\")\n",
    "        self.engine.start()\n",
    "\n",
    "    def stop(self):\n",
    "        print(f\"Stopping {self.make} {self.model}...\")\n",
    "        self.engine.stop()\n",
    "\n",
    "    def refuel(self):\n",
    "        self.engine.refuel()"
   ]
  },
  {
   "cell_type": "code",
   "execution_count": 5,
   "metadata": {},
   "outputs": [
    {
     "name": "stdout",
     "output_type": "stream",
     "text": [
      "Starting Toyota RAV4...\n",
      "Igniting petrol engine...\n",
      "Engine started.\n",
      "Stopping Toyota RAV4...\n",
      "Engine stopped.\n",
      "Refueling petrol tank (50 liters)... done.\n"
     ]
    }
   ],
   "source": [
    "rav4 = Car(\"Toyota\", \"RAV4\", 50)\n",
    "rav4.start()\n",
    "rav4.stop()\n",
    "rav4.refuel()"
   ]
  }
 ],
 "metadata": {
  "kernelspec": {
   "display_name": "myenv",
   "language": "python",
   "name": "python3"
  },
  "language_info": {
   "codemirror_mode": {
    "name": "ipython",
    "version": 3
   },
   "file_extension": ".py",
   "mimetype": "text/x-python",
   "name": "python",
   "nbconvert_exporter": "python",
   "pygments_lexer": "ipython3",
   "version": "3.10.2"
  }
 },
 "nbformat": 4,
 "nbformat_minor": 2
}
